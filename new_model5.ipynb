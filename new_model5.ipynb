{
  "nbformat": 4,
  "nbformat_minor": 0,
  "metadata": {
    "kernelspec": {
      "name": "python3",
      "display_name": "Python 3",
      "language": "python"
    },
    "language_info": {
      "name": "python",
      "version": "3.7.6",
      "mimetype": "text/x-python",
      "codemirror_mode": {
        "name": "ipython",
        "version": 3
      },
      "pygments_lexer": "ipython3",
      "nbconvert_exporter": "python",
      "file_extension": ".py"
    },
    "colab": {
      "name": "new_model5.ipynb",
      "provenance": []
    }
  },
  "cells": [
    {
      "cell_type": "markdown",
      "metadata": {
        "id": "vBw79zdjipAP"
      },
      "source": [
        "# **Happiness SCORE CALCULATION USING MODELLING** "
      ]
    },
    {
      "cell_type": "code",
      "metadata": {
        "trusted": true,
        "id": "5ImDd4I1ipAZ"
      },
      "source": [
        "import pandas as pd\n",
        "import numpy as np\n",
        "import seaborn as sns\n",
        "import matplotlib.pyplot as plt\n",
        "%matplotlib inline"
      ],
      "execution_count": null,
      "outputs": []
    },
    {
      "cell_type": "code",
      "metadata": {
        "trusted": true,
        "id": "8ZP74h87ipAa"
      },
      "source": [
        "test = pd.read_csv(\"testdata.csv\")\n",
        "happy = pd.read_csv(\"world.csv\")\n"
      ],
      "execution_count": null,
      "outputs": []
    },
    {
      "cell_type": "markdown",
      "metadata": {
        "id": "W6deTyfvipAt"
      },
      "source": [
        "# Data Modeling"
      ]
    },
    {
      "cell_type": "markdown",
      "metadata": {
        "id": "tdeWZrSGipAt"
      },
      "source": [
        "For  Data Modeling, we used university students dataset and calculate the model score percentage...........thereafter, we check the precision of each model. We select the model with the highest precision score."
      ]
    },
    {
      "cell_type": "code",
      "metadata": {
        "trusted": true,
        "id": "dnCOAKzAipAt"
      },
      "source": [
        "from sklearn.model_selection import train_test_split \n",
        "from sklearn.preprocessing import RobustScaler\n",
        "\n",
        "from sklearn.pipeline import make_pipeline\n",
        "\n",
        "from sklearn.linear_model import Lasso, LinearRegression, RidgeCV\n",
        "from sklearn.ensemble import GradientBoostingRegressor\n",
        "from sklearn.kernel_ridge import KernelRidge\n",
        "import xgboost as xgb"
      ],
      "execution_count": null,
      "outputs": []
    },
    {
      "cell_type": "code",
      "metadata": {
        "trusted": true,
        "id": "Vlu_gCRwipAt"
      },
      "source": [
        "X = df.drop(['Score','Country'], axis=1)\n",
        "y = df['Score']\n",
        "\n",
        "X_train, X_test, y_train, y_test = train_test_split(X, y, test_size=0.30, random_state=42)"
      ],
      "execution_count": null,
      "outputs": []
    },
    {
      "cell_type": "markdown",
      "metadata": {
        "id": "NbDPoTAYipAt"
      },
      "source": [
        "## 1. LinearRegression"
      ]
    },
    {
      "cell_type": "code",
      "metadata": {
        "trusted": true,
        "id": "SL5tvXL0ipAu"
      },
      "source": [
        "lrm = LinearRegression(normalize=True)\n",
        "lrm.fit(X_train,y_train)\n",
        "predictionslrm = lrm.predict(X_test)"
      ],
      "execution_count": null,
      "outputs": []
    },
    {
      "cell_type": "code",
      "metadata": {
        "trusted": true,
        "id": "bmYrBpa_ipAu",
        "outputId": "a4b8140b-71e3-48e3-a926-b347741fc051"
      },
      "source": [
        "scorelrm = round((lrm.score(X_test, y_test)*100),2)\n",
        "print (\"Model Score:\",scorelrm,\"%\")"
      ],
      "execution_count": null,
      "outputs": [
        {
          "output_type": "stream",
          "text": [
            "Model Score: 71.56 %\n"
          ],
          "name": "stdout"
        }
      ]
    },
    {
      "cell_type": "markdown",
      "metadata": {
        "id": "6RVP7hxIipAu"
      },
      "source": [
        "## 2.SVM"
      ]
    },
    {
      "cell_type": "code",
      "metadata": {
        "trusted": true,
        "id": "JhscXSO3ipAv"
      },
      "source": [
        "model_RFR = RidgeCV(cv=3)\n",
        "model_RFR.fit(X_train, y_train)\n",
        "predictionsRFR = model_RFR.predict(X_test)"
      ],
      "execution_count": null,
      "outputs": []
    },
    {
      "cell_type": "code",
      "metadata": {
        "trusted": true,
        "id": "pzh5dcdaipAv",
        "outputId": "e26ba64b-f852-48f3-fdb7-2118619b19da"
      },
      "source": [
        "scoreRFR = round((model_RFR.score(X_test, y_test)*100),2)\n",
        "print (\"Model Score:\",scoreRFR,\"%\")"
      ],
      "execution_count": null,
      "outputs": [
        {
          "output_type": "stream",
          "text": [
            "Model Score: 71.41 %\n"
          ],
          "name": "stdout"
        }
      ]
    },
    {
      "cell_type": "markdown",
      "metadata": {
        "id": "svKUYRkjipAv"
      },
      "source": [
        "## 3. CLUSTERING"
      ]
    },
    {
      "cell_type": "code",
      "metadata": {
        "trusted": true,
        "id": "yX6snbKGipAv"
      },
      "source": [
        "lasso = make_pipeline(RobustScaler(), Lasso(alpha =0.0005, random_state=42, max_iter=4000))\n",
        "lasso.fit(X_train, y_train)\n",
        "predictionslasso = lasso.predict(X_test)"
      ],
      "execution_count": null,
      "outputs": []
    },
    {
      "cell_type": "code",
      "metadata": {
        "trusted": true,
        "id": "yvt2JqTNipAw",
        "outputId": "a5ef9487-6d45-4d53-9c5a-7e4a9cac25d6"
      },
      "source": [
        "scorelasso = round((lasso.score(X_test, y_test)*100),2)\n",
        "print (\"Model Score:\",scorelasso,\"%\")"
      ],
      "execution_count": null,
      "outputs": [
        {
          "output_type": "stream",
          "text": [
            "Model Score: 71.46 %\n"
          ],
          "name": "stdout"
        }
      ]
    },
    {
      "cell_type": "markdown",
      "metadata": {
        "id": "5FfGUpIgipAw"
      },
      "source": [
        "## 4. KNN"
      ]
    },
    {
      "cell_type": "code",
      "metadata": {
        "trusted": true,
        "id": "vHTFJH0BipAw"
      },
      "source": [
        "KRR = KernelRidge(alpha=0.6, kernel='polynomial', degree=2)\n",
        "KRR.fit(X_train, y_train)\n",
        "predictionsKRR = KRR.predict(X_test)"
      ],
      "execution_count": null,
      "outputs": []
    },
    {
      "cell_type": "code",
      "metadata": {
        "trusted": true,
        "id": "7pfSFFWeipAw",
        "outputId": "5eada291-f484-4b1e-b5ad-b710f1797043"
      },
      "source": [
        "scoreKRR = round((KRR.score(X_test, y_test)*100),2)\n",
        "print (\"Model Score:\",scoreKRR,\"%\")"
      ],
      "execution_count": null,
      "outputs": [
        {
          "output_type": "stream",
          "text": [
            "Model Score: 72.31 %\n"
          ],
          "name": "stdout"
        }
      ]
    },
    {
      "cell_type": "markdown",
      "metadata": {
        "id": "_ntM0WykipAx"
      },
      "source": [
        "## 5. Gradient Boosting Regression"
      ]
    },
    {
      "cell_type": "code",
      "metadata": {
        "trusted": true,
        "id": "CJVU4ht0ipAx"
      },
      "source": [
        "GBoost = GradientBoostingRegressor(learning_rate=0.005, max_depth=3,n_estimators=2200,\n",
        "                                   random_state =42)\n",
        "GBoost.fit(X_train, y_train)\n",
        "predictionsGBoost = GBoost.predict(X_test)"
      ],
      "execution_count": null,
      "outputs": []
    },
    {
      "cell_type": "code",
      "metadata": {
        "trusted": true,
        "id": "g3iFheqGipAx",
        "outputId": "f7eeae40-22e3-4698-c701-ba02bb5dd207"
      },
      "source": [
        "scoreGBoost = round((GBoost.score(X_test, y_test)*100),2)\n",
        "print (\"Model Score:\",scoreGBoost,\"%\")"
      ],
      "execution_count": null,
      "outputs": [
        {
          "output_type": "stream",
          "text": [
            "Model Score: 74.54 %\n"
          ],
          "name": "stdout"
        }
      ]
    },
    {
      "cell_type": "markdown",
      "metadata": {
        "id": "DJguj7kiipAx"
      },
      "source": [
        "## 6. XGBoost - RANDOM FOREST"
      ]
    },
    {
      "cell_type": "code",
      "metadata": {
        "trusted": true,
        "id": "EFsbnWSYipAy"
      },
      "source": [
        "model_xgb = xgb.XGBRegressor(learning_rate=0.005, max_depth=3, \n",
        "                             min_child_weight=1.7, n_estimators=2200,\n",
        "                             random_state =42)\n",
        "model_xgb.fit(X_train, y_train)\n",
        "predictionsxgb = model_xgb.predict(X_test)"
      ],
      "execution_count": null,
      "outputs": []
    },
    {
      "cell_type": "code",
      "metadata": {
        "trusted": true,
        "id": "FePl3jbBipAy",
        "outputId": "a069eb57-475f-4269-8955-d92f165871e1"
      },
      "source": [
        "scorexgb = round((model_xgb.score(X_test, y_test)*100),2)\n",
        "print (\"Model Score:\",scorexgb,\"%\")"
      ],
      "execution_count": null,
      "outputs": [
        {
          "output_type": "stream",
          "text": [
            "Model Score: 74.79 %\n"
          ],
          "name": "stdout"
        }
      ]
    }
  ]
}