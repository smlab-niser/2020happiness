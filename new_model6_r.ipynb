{
  "nbformat": 4,
  "nbformat_minor": 0,
  "metadata": {
    "kernelspec": {
      "name": "ir",
      "display_name": "R",
      "language": "R"
    },
    "language_info": {
      "name": "R",
      "codemirror_mode": "r",
      "pygments_lexer": "r",
      "mimetype": "text/x-r-source",
      "file_extension": ".r",
      "version": "3.6.3"
    },
    "colab": {
      "name": "new_model6-r.ipynb",
      "provenance": []
    }
  },
  "cells": [
    {
      "cell_type": "markdown",
      "metadata": {
        "id": "yE8vyPDSVFeG"
      },
      "source": [
        "**MODELLING STATISTICS**"
      ]
    },
    {
      "cell_type": "code",
      "metadata": {
        "_uuid": "051d70d956493feee0c6d64651c6a088724dca2a",
        "_execution_state": "idle",
        "trusted": true,
        "id": "xAVLHi_Sij-z",
        "outputId": "da909257-bff1-43da-9c2a-62d18c02abcc"
      },
      "source": [
        "\n",
        "library(tidyverse) \n",
        "list.files(path = \"../input\")\n",
        "\n"
      ],
      "execution_count": null,
      "outputs": [
        {
          "output_type": "stream",
          "text": [
            "── \u001b[1mAttaching packages\u001b[22m ─────────────────────────────────────── tidyverse 1.3.0 ──\n",
            "\n",
            "\u001b[32m✔\u001b[39m \u001b[34mggplot2\u001b[39m 3.3.2     \u001b[32m✔\u001b[39m \u001b[34mpurrr  \u001b[39m 0.3.4\n",
            "\u001b[32m✔\u001b[39m \u001b[34mtibble \u001b[39m 3.0.4     \u001b[32m✔\u001b[39m \u001b[34mdplyr  \u001b[39m 1.0.2\n",
            "\u001b[32m✔\u001b[39m \u001b[34mtidyr  \u001b[39m 1.1.2     \u001b[32m✔\u001b[39m \u001b[34mstringr\u001b[39m 1.4.0\n",
            "\u001b[32m✔\u001b[39m \u001b[34mreadr  \u001b[39m 1.4.0     \u001b[32m✔\u001b[39m \u001b[34mforcats\u001b[39m 0.5.0\n",
            "\n",
            "── \u001b[1mConflicts\u001b[22m ────────────────────────────────────────── tidyverse_conflicts() ──\n",
            "\u001b[31m✖\u001b[39m \u001b[34mdplyr\u001b[39m::\u001b[32mfilter()\u001b[39m masks \u001b[34mstats\u001b[39m::filter()\n",
            "\u001b[31m✖\u001b[39m \u001b[34mdplyr\u001b[39m::\u001b[32mlag()\u001b[39m    masks \u001b[34mstats\u001b[39m::lag()\n",
            "\n"
          ],
          "name": "stderr"
        },
        {
          "output_type": "display_data",
          "data": {
            "text/html": [
              "'world-happiness'"
            ],
            "text/markdown": "'world-happiness'",
            "text/latex": "'world-happiness'",
            "text/plain": [
              "[1] \"world-happiness\""
            ]
          },
          "metadata": {
            "tags": []
          }
        }
      ]
    },
    {
      "cell_type": "code",
      "metadata": {
        "trusted": true,
        "id": "re2PYyONij_B"
      },
      "source": [
        "happy <- read.csv(file = 'testdata.csv', header = TRUE) "
      ],
      "execution_count": null,
      "outputs": []
    },
    {
      "cell_type": "code",
      "metadata": {
        "trusted": true,
        "id": "vXZUjxGEij_C"
      },
      "source": [
        "df <- as.data.frame(happy[,c('Social', 'Healthy.life.expectancy', 'Freedom')])"
      ],
      "execution_count": null,
      "outputs": []
    },
    {
      "cell_type": "code",
      "metadata": {
        "trusted": true,
        "id": "VFBAqy-Rij_C"
      },
      "source": [
        "happy <- as.data.frame(happy[,c( 'Score', 'Social', 'Healthy.life.expectancy', 'Freedom')])"
      ],
      "execution_count": null,
      "outputs": []
    },
    {
      "cell_type": "markdown",
      "metadata": {
        "id": "0B4f7QtNij_D"
      },
      "source": [
        "# Multiple Linear Regression"
      ]
    },
    {
      "cell_type": "code",
      "metadata": {
        "trusted": true,
        "id": "FKW9Rl1fij_E",
        "outputId": "f72dbf4c-184d-429a-bbe8-437a07e027ec"
      },
      "source": [
        "fit <- lm(Score ~  Social+ Health + Freedom, data=happy)\n",
        "summ_fit <- summary(fit)\n",
        "summary(fit)"
      ],
      "execution_count": null,
      "outputs": [
        {
          "output_type": "display_data",
          "data": {
            "text/plain": [
              "\n",
              "Call:\n",
              "lm(formula = Score ~ GDP.per.capita + Social.support + Healthy.life.expectancy + \n",
              "    Freedom.to.make.life.choices + Generosity + Perceptions.of.corruption, \n",
              "    data = happy)\n",
              "\n",
              "Residuals:\n",
              "     Min       1Q   Median       3Q      Max \n",
              "-1.75304 -0.35306  0.05703  0.36695  1.19059 \n",
              "\n",
              "Coefficients:\n",
              "                             Estimate Std. Error t value Pr(>|t|)    \n",
              "(Intercept)                    1.7952     0.2111   8.505 1.77e-14 ***\n",
              "GDP.per.capita                 0.7754     0.2182   3.553 0.000510 ***\n",
              "Social.support                 1.1242     0.2369   4.745 4.83e-06 ***\n",
              "Healthy.life.expectancy        1.0781     0.3345   3.223 0.001560 ** \n",
              "Freedom.to.make.life.choices   1.4548     0.3753   3.876 0.000159 ***\n",
              "Generosity                     0.4898     0.4977   0.984 0.326709    \n",
              "Perceptions.of.corruption      0.9723     0.5424   1.793 0.075053 .  \n",
              "---\n",
              "Signif. codes:  0 ‘***’ 0.001 ‘**’ 0.01 ‘*’ 0.05 ‘.’ 0.1 ‘ ’ 1\n",
              "\n",
              "Residual standard error: 0.5335 on 149 degrees of freedom\n",
              "Multiple R-squared:  0.7792,\tAdjusted R-squared:  0.7703 \n",
              "F-statistic: 87.62 on 6 and 149 DF,  p-value: < 2.2e-16\n"
            ]
          },
          "metadata": {
            "tags": []
          }
        }
      ]
    },
    {
      "cell_type": "markdown",
      "metadata": {
        "id": "g_D2qb5hij_E"
      },
      "source": [
        "**Since the p-value of Freedom is less than 0.05, it is not significant. Also, $R^2$, coefficient of determination, is a measure of goodness of fitness of the model, between 0 and 1. In this case, $R^2$ equals 0.779, which is relatively a good fit.**"
      ]
    },
    {
      "cell_type": "markdown",
      "metadata": {
        "id": "8oRWT93Tij_F"
      },
      "source": [
        "**This university students data follows a Normal Distribution**"
      ]
    },
    {
      "cell_type": "markdown",
      "metadata": {
        "id": "Hc0ALYL0ij_G"
      },
      "source": [
        "**We standarlized the coefficient and the variable Freedom has a relatively high coefficent.**"
      ]
    },
    {
      "cell_type": "markdown",
      "metadata": {
        "id": "quLYIRxIij_H"
      },
      "source": [
        "# Logistic Regression"
      ]
    },
    {
      "cell_type": "code",
      "metadata": {
        "trusted": true,
        "id": "JUHSl10Lij_H"
      },
      "source": [
        "happy$Score.index <- factor(happy$Score> mean(happy$Score), levels=c(TRUE,FALSE),labels=c(\"High\", \"Low\"))"
      ],
      "execution_count": null,
      "outputs": []
    },
    {
      "cell_type": "markdown",
      "metadata": {
        "id": "jJ1btd4Sij_H"
      },
      "source": [
        "Next, we generate a logistic regression model."
      ]
    },
    {
      "cell_type": "code",
      "metadata": {
        "trusted": true,
        "id": "yG-nmMmCij_I",
        "outputId": "f52b6090-f38e-44f2-991b-19ed41c9ff69"
      },
      "source": [
        "fit.full<- glm(Score.index ~ GDP.per.capita + Social.support + Healthy.life.expectancy + Freedom.to.make.life.choices + Generosity + Perceptions.of.corruption, data=happy, family=binomial())\n",
        "summary(fit.full)"
      ],
      "execution_count": null,
      "outputs": [
        {
          "output_type": "display_data",
          "data": {
            "text/plain": [
              "\n",
              "Call:\n",
              "glm(formula = Score.index ~ GDP.per.capita + Social.support + \n",
              "    Healthy.life.expectancy + Freedom.to.make.life.choices + \n",
              "    Generosity + Perceptions.of.corruption, family = binomial(), \n",
              "    data = happy)\n",
              "\n",
              "Deviance Residuals: \n",
              "    Min       1Q   Median       3Q      Max  \n",
              "-3.3001  -0.3253   0.0017   0.2008   2.1362  \n",
              "\n",
              "Coefficients:\n",
              "                             Estimate Std. Error z value Pr(>|z|)    \n",
              "(Intercept)                    18.557      3.634   5.106 3.28e-07 ***\n",
              "GDP.per.capita                 -1.311      1.644  -0.798  0.42508    \n",
              "Social.support                 -5.812      2.022  -2.874  0.00405 ** \n",
              "Healthy.life.expectancy        -9.066      3.058  -2.964  0.00303 ** \n",
              "Freedom.to.make.life.choices   -8.106      2.603  -3.114  0.00185 ** \n",
              "Generosity                      2.915      3.471   0.840  0.40112    \n",
              "Perceptions.of.corruption      -3.393      5.627  -0.603  0.54647    \n",
              "---\n",
              "Signif. codes:  0 ‘***’ 0.001 ‘**’ 0.01 ‘*’ 0.05 ‘.’ 0.1 ‘ ’ 1\n",
              "\n",
              "(Dispersion parameter for binomial family taken to be 1)\n",
              "\n",
              "    Null deviance: 216.236  on 155  degrees of freedom\n",
              "Residual deviance:  78.512  on 149  degrees of freedom\n",
              "AIC: 92.512\n",
              "\n",
              "Number of Fisher Scoring iterations: 7\n"
            ]
          },
          "metadata": {
            "tags": []
          }
        }
      ]
    },
    {
      "cell_type": "markdown",
      "metadata": {
        "id": "Qbaw6v-Zij_I"
      },
      "source": [
        "In this case, only Social Support, Healthy Life Expectancy and Freedom to Make Life Choices are significant, since the p-values are less than 0.05. Residual deviance measure the badness of fit of the 5 predictors. Then we need to test if the drop of deviance between the null model and our model is significant."
      ]
    },
    {
      "cell_type": "code",
      "metadata": {
        "trusted": true,
        "id": "f0U_0Z30ij_I",
        "outputId": "149d3dba-791d-47a4-d702-97fe4f3bed52"
      },
      "source": [
        "fit.null <- glm(Score.index ~ 1, data=happy, family=binomial()) \n",
        "anova(fit.null, fit.full, test=\"Chisq\")"
      ],
      "execution_count": null,
      "outputs": [
        {
          "output_type": "display_data",
          "data": {
            "text/html": [
              "<table class=\"dataframe\">\n",
              "<caption>A anova: 2 × 5</caption>\n",
              "<thead>\n",
              "\t<tr><th></th><th scope=col>Resid. Df</th><th scope=col>Resid. Dev</th><th scope=col>Df</th><th scope=col>Deviance</th><th scope=col>Pr(&gt;Chi)</th></tr>\n",
              "\t<tr><th></th><th scope=col>&lt;dbl&gt;</th><th scope=col>&lt;dbl&gt;</th><th scope=col>&lt;dbl&gt;</th><th scope=col>&lt;dbl&gt;</th><th scope=col>&lt;dbl&gt;</th></tr>\n",
              "</thead>\n",
              "<tbody>\n",
              "\t<tr><th scope=row>1</th><td>155</td><td>216.2363</td><td>NA</td><td>      NA</td><td>          NA</td></tr>\n",
              "\t<tr><th scope=row>2</th><td>149</td><td> 78.5115</td><td> 6</td><td>137.7248</td><td>3.026845e-27</td></tr>\n",
              "</tbody>\n",
              "</table>\n"
            ],
            "text/markdown": "\nA anova: 2 × 5\n\n| <!--/--> | Resid. Df &lt;dbl&gt; | Resid. Dev &lt;dbl&gt; | Df &lt;dbl&gt; | Deviance &lt;dbl&gt; | Pr(&gt;Chi) &lt;dbl&gt; |\n|---|---|---|---|---|---|\n| 1 | 155 | 216.2363 | NA |       NA |           NA |\n| 2 | 149 |  78.5115 |  6 | 137.7248 | 3.026845e-27 |\n\n",
            "text/latex": "A anova: 2 × 5\n\\begin{tabular}{r|lllll}\n  & Resid. Df & Resid. Dev & Df & Deviance & Pr(>Chi)\\\\\n  & <dbl> & <dbl> & <dbl> & <dbl> & <dbl>\\\\\n\\hline\n\t1 & 155 & 216.2363 & NA &       NA &           NA\\\\\n\t2 & 149 &  78.5115 &  6 & 137.7248 & 3.026845e-27\\\\\n\\end{tabular}\n",
            "text/plain": [
              "  Resid. Df Resid. Dev Df Deviance Pr(>Chi)    \n",
              "1 155       216.2363   NA       NA           NA\n",
              "2 149        78.5115    6 137.7248 3.026845e-27"
            ]
          },
          "metadata": {
            "tags": []
          }
        }
      ]
    },
    {
      "cell_type": "code",
      "metadata": {
        "trusted": true,
        "id": "W2DdGQ5Iij_J",
        "outputId": "823f1094-3b83-4768-dc5b-c0aad66830a4"
      },
      "source": [
        "fit.reduced <- glm(Score.index ~ Social.support + Healthy.life.expectancy + Freedom.to.make.life.choices,\n",
        "                   data = happy, family=binomial())\n",
        "summary(fit.reduced)"
      ],
      "execution_count": null,
      "outputs": [
        {
          "output_type": "display_data",
          "data": {
            "text/plain": [
              "\n",
              "Call:\n",
              "glm(formula = Score.index ~ Social.support + Healthy.life.expectancy + \n",
              "    Freedom.to.make.life.choices, family = binomial(), data = happy)\n",
              "\n",
              "Deviance Residuals: \n",
              "    Min       1Q   Median       3Q      Max  \n",
              "-3.3203  -0.3579   0.0017   0.1955   2.2563  \n",
              "\n",
              "Coefficients:\n",
              "                             Estimate Std. Error z value Pr(>|z|)    \n",
              "(Intercept)                    19.107      3.527   5.418 6.03e-08 ***\n",
              "Social.support                 -6.262      1.873  -3.343 0.000828 ***\n",
              "Healthy.life.expectancy       -10.691      2.737  -3.905 9.41e-05 ***\n",
              "Freedom.to.make.life.choices   -7.448      2.292  -3.250 0.001153 ** \n",
              "---\n",
              "Signif. codes:  0 ‘***’ 0.001 ‘**’ 0.01 ‘*’ 0.05 ‘.’ 0.1 ‘ ’ 1\n",
              "\n",
              "(Dispersion parameter for binomial family taken to be 1)\n",
              "\n",
              "    Null deviance: 216.24  on 155  degrees of freedom\n",
              "Residual deviance:  80.78  on 152  degrees of freedom\n",
              "AIC: 88.78\n",
              "\n",
              "Number of Fisher Scoring iterations: 7\n"
            ]
          },
          "metadata": {
            "tags": []
          }
        }
      ]
    },
    {
      "cell_type": "markdown",
      "metadata": {
        "id": "DBeGljkIij_K"
      },
      "source": [
        "P-values shows that only Social Support, Life Expectancy and Freedom are significant, so here is a model with only these predictors. All predictors are significant in the reduced model. The AIC in this model is 88.78 which is smaller and better than the full model.\n"
      ]
    },
    {
      "cell_type": "markdown",
      "metadata": {
        "id": "cWqnnaryij_L"
      },
      "source": [
        "# Decision Trees"
      ]
    },
    {
      "cell_type": "code",
      "metadata": {
        "trusted": true,
        "id": "Xv0P_FPNij_L"
      },
      "source": [
        "library(ISLR)\n",
        "set.seed(1234)\n",
        "train <- sample(nrow(happy), 0.8*nrow(happy)) \n",
        "training <- happy[train,]\n",
        "validation <- happy[-train,] "
      ],
      "execution_count": null,
      "outputs": []
    },
    {
      "cell_type": "code",
      "metadata": {
        "trusted": true,
        "id": "_a1tTjjtij_N",
        "outputId": "fbc07f61-fc2c-4e9e-9507-be266bede6d2"
      },
      "source": [
        "dtree.pred <- predict(dtree.pruned, validation, type=\"class\")\n",
        "dtree.perf <- table(validation$Score.index, dtree.pred,dnn=c(\"Actual\", \"Predicted\"))\n",
        "dtree.perf"
      ],
      "execution_count": null,
      "outputs": [
        {
          "output_type": "display_data",
          "data": {
            "text/plain": [
              "      Predicted\n",
              "Actual High Low\n",
              "  High   18   1\n",
              "  Low     0  13"
            ]
          },
          "metadata": {
            "tags": []
          }
        }
      ]
    },
    {
      "cell_type": "markdown",
      "metadata": {
        "id": "UfTVnoLaij_O"
      },
      "source": [
        "# Random Forest"
      ]
    },
    {
      "cell_type": "code",
      "metadata": {
        "trusted": true,
        "id": "zBE7JlGSij_O"
      },
      "source": [
        "library(ISLR)\n",
        "set.seed(1234)\n",
        "train <- sample(nrow(happy), 0.8*nrow(happy)) \n",
        "training <- happy[train,]"
      ],
      "execution_count": null,
      "outputs": []
    },
    {
      "cell_type": "code",
      "metadata": {
        "trusted": true,
        "id": "s6VAlaJIij_P",
        "outputId": "3502ea1d-1bce-471c-cbc0-a3f17dbf58be"
      },
      "source": [
        "library(randomForest)\n",
        "set.seed(1234)\n",
        "fit.forest <- randomForest(Score~  Social + Health + Freedom,data=testdata,na.action=na.roughfix, importance=TRUE)\n",
        "fit.forest"
      ],
      "execution_count": null,
      "outputs": [
        {
          "output_type": "stream",
          "text": [
            "randomForest 4.6-14\n",
            "\n",
            "Type rfNews() to see new features/changes/bug fixes.\n",
            "\n",
            "\n",
            "Attaching package: ‘randomForest’\n",
            "\n",
            "\n",
            "The following object is masked from ‘package:dplyr’:\n",
            "\n",
            "    combine\n",
            "\n",
            "\n",
            "The following object is masked from ‘package:ggplot2’:\n",
            "\n",
            "    margin\n",
            "\n",
            "\n"
          ],
          "name": "stderr"
        },
        {
          "output_type": "display_data",
          "data": {
            "text/plain": [
              "\n",
              "Call:\n",
              " randomForest(formula = Score ~ GDP.per.capita + Social.support +      Healthy.life.expectancy + Freedom.to.make.life.choices +      Generosity + Perceptions.of.corruption, data = training,      importance = TRUE, na.action = na.roughfix) \n",
              "               Type of random forest: regression\n",
              "                     Number of trees: 500\n",
              "No. of variables tried at each split: 2\n",
              "\n",
              "          Mean of squared residuals: 0.2413737\n",
              "                    % Var explained: 80.28"
            ]
          },
          "metadata": {
            "tags": []
          }
        }
      ]
    }
  ]
}