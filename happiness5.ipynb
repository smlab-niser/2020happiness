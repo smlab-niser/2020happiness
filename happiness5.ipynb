{
  "nbformat": 4,
  "nbformat_minor": 0,
  "metadata": {
    "kernelspec": {
      "name": "python3",
      "display_name": "Python 3",
      "language": "python"
    },
    "language_info": {
      "name": "python",
      "version": "3.6.6",
      "mimetype": "text/x-python",
      "codemirror_mode": {
        "name": "ipython",
        "version": 3
      },
      "pygments_lexer": "ipython3",
      "nbconvert_exporter": "python",
      "file_extension": ".py"
    },
    "colab": {
      "name": "happiness5.ipynb",
      "provenance": []
    }
  },
  "cells": [
    {
      "cell_type": "code",
      "metadata": {
        "_uuid": "8f2839f25d086af736a60e9eeb907d3b93b6e0e5",
        "_cell_guid": "b1076dfc-b9ad-4769-8c92-a6c4dae69d19",
        "trusted": true,
        "id": "53G2nEGjQDBA"
      },
      "source": [
        "import numpy as np \n",
        "import pandas as pd\n",
        "import matplotlib.pyplot as plt\n",
        "import seaborn as sns\n",
        "import warnings            \n",
        "warnings.filterwarnings(\"ignore\") "
      ],
      "execution_count": null,
      "outputs": []
    },
    {
      "cell_type": "markdown",
      "metadata": {
        "id": "VOBWb8szQDBB"
      },
      "source": [
        "# Load and Check Data <a id=\"-1\"></a>"
      ]
    },
    {
      "cell_type": "code",
      "metadata": {
        "_uuid": "d629ff2d2480ee46fbb7e2d37f6b5fab8052498a",
        "_cell_guid": "79c7e3d0-c299-4dcb-8224-4455121ee9b0",
        "trusted": true,
        "id": "kVSB-1M8QDBB",
        "outputId": "d4c5de2c-615a-4d39-e713-eab1d0017c7e"
      },
      "source": [
        "data = pd.read_csv(\"worlddata.csv\");\n",
        "test = pd.read_csv(\"test.csv\");\n",
        "\n",
        "data"
      ],
      "execution_count": null,
      "outputs": [
        {
          "output_type": "execute_result",
          "data": {
            "text/plain": [
              "     Overall rank         Country or region  Score  GDP per capita  \\\n",
              "0               1                   Finland  7.632           1.305   \n",
              "1               2                    Norway  7.594           1.456   \n",
              "2               3                   Denmark  7.555           1.351   \n",
              "3               4                   Iceland  7.495           1.343   \n",
              "4               5               Switzerland  7.487           1.420   \n",
              "..            ...                       ...    ...             ...   \n",
              "151           152                    Rwanda  3.334           0.359   \n",
              "152           153                  Tanzania  3.231           0.476   \n",
              "153           154               Afghanistan  3.203           0.350   \n",
              "154           155  Central African Republic  3.083           0.026   \n",
              "155           156               South Sudan  2.853           0.306   \n",
              "\n",
              "     Social support  Healthy life expectancy  Freedom to make life choices  \\\n",
              "0             1.592                    0.874                         0.681   \n",
              "1             1.582                    0.861                         0.686   \n",
              "2             1.590                    0.868                         0.683   \n",
              "3             1.644                    0.914                         0.677   \n",
              "4             1.549                    0.927                         0.660   \n",
              "..              ...                      ...                           ...   \n",
              "151           0.711                    0.614                         0.555   \n",
              "152           0.885                    0.499                         0.417   \n",
              "153           0.517                    0.361                         0.000   \n",
              "154           0.000                    0.105                         0.225   \n",
              "155           0.575                    0.295                         0.010   \n",
              "\n",
              "     Generosity  Perceptions of corruption  \n",
              "0         0.202                      0.393  \n",
              "1         0.286                      0.340  \n",
              "2         0.284                      0.408  \n",
              "3         0.353                      0.138  \n",
              "4         0.256                      0.357  \n",
              "..          ...                        ...  \n",
              "151       0.217                      0.411  \n",
              "152       0.276                      0.147  \n",
              "153       0.158                      0.025  \n",
              "154       0.235                      0.035  \n",
              "155       0.202                      0.091  \n",
              "\n",
              "[312 rows x 9 columns]"
            ],
            "text/html": [
              "<div>\n",
              "<style scoped>\n",
              "    .dataframe tbody tr th:only-of-type {\n",
              "        vertical-align: middle;\n",
              "    }\n",
              "\n",
              "    .dataframe tbody tr th {\n",
              "        vertical-align: top;\n",
              "    }\n",
              "\n",
              "    .dataframe thead th {\n",
              "        text-align: right;\n",
              "    }\n",
              "</style>\n",
              "<table border=\"1\" class=\"dataframe\">\n",
              "  <thead>\n",
              "    <tr style=\"text-align: right;\">\n",
              "      <th></th>\n",
              "      <th>Overall rank</th>\n",
              "      <th>Country or region</th>\n",
              "      <th>Score</th>\n",
              "      <th>GDP per capita</th>\n",
              "      <th>Social support</th>\n",
              "      <th>Healthy life expectancy</th>\n",
              "      <th>Freedom to make life choices</th>\n",
              "      <th>Generosity</th>\n",
              "      <th>Perceptions of corruption</th>\n",
              "    </tr>\n",
              "  </thead>\n",
              "  <tbody>\n",
              "    <tr>\n",
              "      <th>0</th>\n",
              "      <td>1</td>\n",
              "      <td>Finland</td>\n",
              "      <td>7.632</td>\n",
              "      <td>1.305</td>\n",
              "      <td>1.592</td>\n",
              "      <td>0.874</td>\n",
              "      <td>0.681</td>\n",
              "      <td>0.202</td>\n",
              "      <td>0.393</td>\n",
              "    </tr>\n",
              "    <tr>\n",
              "      <th>1</th>\n",
              "      <td>2</td>\n",
              "      <td>Norway</td>\n",
              "      <td>7.594</td>\n",
              "      <td>1.456</td>\n",
              "      <td>1.582</td>\n",
              "      <td>0.861</td>\n",
              "      <td>0.686</td>\n",
              "      <td>0.286</td>\n",
              "      <td>0.340</td>\n",
              "    </tr>\n",
              "    <tr>\n",
              "      <th>2</th>\n",
              "      <td>3</td>\n",
              "      <td>Denmark</td>\n",
              "      <td>7.555</td>\n",
              "      <td>1.351</td>\n",
              "      <td>1.590</td>\n",
              "      <td>0.868</td>\n",
              "      <td>0.683</td>\n",
              "      <td>0.284</td>\n",
              "      <td>0.408</td>\n",
              "    </tr>\n",
              "    <tr>\n",
              "      <th>3</th>\n",
              "      <td>4</td>\n",
              "      <td>Iceland</td>\n",
              "      <td>7.495</td>\n",
              "      <td>1.343</td>\n",
              "      <td>1.644</td>\n",
              "      <td>0.914</td>\n",
              "      <td>0.677</td>\n",
              "      <td>0.353</td>\n",
              "      <td>0.138</td>\n",
              "    </tr>\n",
              "    <tr>\n",
              "      <th>4</th>\n",
              "      <td>5</td>\n",
              "      <td>Switzerland</td>\n",
              "      <td>7.487</td>\n",
              "      <td>1.420</td>\n",
              "      <td>1.549</td>\n",
              "      <td>0.927</td>\n",
              "      <td>0.660</td>\n",
              "      <td>0.256</td>\n",
              "      <td>0.357</td>\n",
              "    </tr>\n",
              "    <tr>\n",
              "      <th>...</th>\n",
              "      <td>...</td>\n",
              "      <td>...</td>\n",
              "      <td>...</td>\n",
              "      <td>...</td>\n",
              "      <td>...</td>\n",
              "      <td>...</td>\n",
              "      <td>...</td>\n",
              "      <td>...</td>\n",
              "      <td>...</td>\n",
              "    </tr>\n",
              "    <tr>\n",
              "      <th>151</th>\n",
              "      <td>152</td>\n",
              "      <td>Rwanda</td>\n",
              "      <td>3.334</td>\n",
              "      <td>0.359</td>\n",
              "      <td>0.711</td>\n",
              "      <td>0.614</td>\n",
              "      <td>0.555</td>\n",
              "      <td>0.217</td>\n",
              "      <td>0.411</td>\n",
              "    </tr>\n",
              "    <tr>\n",
              "      <th>152</th>\n",
              "      <td>153</td>\n",
              "      <td>Tanzania</td>\n",
              "      <td>3.231</td>\n",
              "      <td>0.476</td>\n",
              "      <td>0.885</td>\n",
              "      <td>0.499</td>\n",
              "      <td>0.417</td>\n",
              "      <td>0.276</td>\n",
              "      <td>0.147</td>\n",
              "    </tr>\n",
              "    <tr>\n",
              "      <th>153</th>\n",
              "      <td>154</td>\n",
              "      <td>Afghanistan</td>\n",
              "      <td>3.203</td>\n",
              "      <td>0.350</td>\n",
              "      <td>0.517</td>\n",
              "      <td>0.361</td>\n",
              "      <td>0.000</td>\n",
              "      <td>0.158</td>\n",
              "      <td>0.025</td>\n",
              "    </tr>\n",
              "    <tr>\n",
              "      <th>154</th>\n",
              "      <td>155</td>\n",
              "      <td>Central African Republic</td>\n",
              "      <td>3.083</td>\n",
              "      <td>0.026</td>\n",
              "      <td>0.000</td>\n",
              "      <td>0.105</td>\n",
              "      <td>0.225</td>\n",
              "      <td>0.235</td>\n",
              "      <td>0.035</td>\n",
              "    </tr>\n",
              "    <tr>\n",
              "      <th>155</th>\n",
              "      <td>156</td>\n",
              "      <td>South Sudan</td>\n",
              "      <td>2.853</td>\n",
              "      <td>0.306</td>\n",
              "      <td>0.575</td>\n",
              "      <td>0.295</td>\n",
              "      <td>0.010</td>\n",
              "      <td>0.202</td>\n",
              "      <td>0.091</td>\n",
              "    </tr>\n",
              "  </tbody>\n",
              "</table>\n",
              "<p>312 rows × 9 columns</p>\n",
              "</div>"
            ]
          },
          "metadata": {
            "tags": []
          },
          "execution_count": 610
        }
      ]
    },
    {
      "cell_type": "code",
      "metadata": {
        "trusted": true,
        "id": "fZxPsJKOQDBC",
        "outputId": "2b54d793-a769-43d2-e003-d27b2bb84135"
      },
      "source": [
        "data.describe().T"
      ],
      "execution_count": null,
      "outputs": [
        {
          "output_type": "execute_result",
          "data": {
            "text/plain": [
              "                              count       mean        std    min       25%  \\\n",
              "Overall rank                  312.0  78.500000  45.104737  1.000  39.75000   \n",
              "Score                         312.0   5.391506   1.114631  2.853   4.51425   \n",
              "GDP per capita                312.0   0.898298   0.394592  0.000   0.60950   \n",
              "Social support                312.0   1.211026   0.300310  0.000   1.05575   \n",
              "Healthy life expectancy       312.0   0.661295   0.252724  0.000   0.48825   \n",
              "Freedom to make life choices  312.0   0.423538   0.156024  0.000   0.32250   \n",
              "Generosity                    312.0   0.182926   0.096739  0.000   0.10875   \n",
              "Perceptions of corruption     311.0   0.111299   0.095365  0.000   0.05000   \n",
              "\n",
              "                                  50%        75%      max  \n",
              "Overall rank                  78.5000  117.25000  156.000  \n",
              "Score                          5.3795    6.17600    7.769  \n",
              "GDP per capita                 0.9600    1.21950    2.096  \n",
              "Social support                 1.2655    1.45750    1.644  \n",
              "Healthy life expectancy        0.6990    0.85800    1.141  \n",
              "Freedom to make life choices   0.4495    0.54025    0.724  \n",
              "Generosity                     0.1755    0.24500    0.598  \n",
              "Perceptions of corruption      0.0820    0.14050    0.457  "
            ],
            "text/html": [
              "<div>\n",
              "<style scoped>\n",
              "    .dataframe tbody tr th:only-of-type {\n",
              "        vertical-align: middle;\n",
              "    }\n",
              "\n",
              "    .dataframe tbody tr th {\n",
              "        vertical-align: top;\n",
              "    }\n",
              "\n",
              "    .dataframe thead th {\n",
              "        text-align: right;\n",
              "    }\n",
              "</style>\n",
              "<table border=\"1\" class=\"dataframe\">\n",
              "  <thead>\n",
              "    <tr style=\"text-align: right;\">\n",
              "      <th></th>\n",
              "      <th>count</th>\n",
              "      <th>mean</th>\n",
              "      <th>std</th>\n",
              "      <th>min</th>\n",
              "      <th>25%</th>\n",
              "      <th>50%</th>\n",
              "      <th>75%</th>\n",
              "      <th>max</th>\n",
              "    </tr>\n",
              "  </thead>\n",
              "  <tbody>\n",
              "    <tr>\n",
              "      <th>Overall rank</th>\n",
              "      <td>312.0</td>\n",
              "      <td>78.500000</td>\n",
              "      <td>45.104737</td>\n",
              "      <td>1.000</td>\n",
              "      <td>39.75000</td>\n",
              "      <td>78.5000</td>\n",
              "      <td>117.25000</td>\n",
              "      <td>156.000</td>\n",
              "    </tr>\n",
              "    <tr>\n",
              "      <th>Score</th>\n",
              "      <td>312.0</td>\n",
              "      <td>5.391506</td>\n",
              "      <td>1.114631</td>\n",
              "      <td>2.853</td>\n",
              "      <td>4.51425</td>\n",
              "      <td>5.3795</td>\n",
              "      <td>6.17600</td>\n",
              "      <td>7.769</td>\n",
              "    </tr>\n",
              "    <tr>\n",
              "      <th>GDP per capita</th>\n",
              "      <td>312.0</td>\n",
              "      <td>0.898298</td>\n",
              "      <td>0.394592</td>\n",
              "      <td>0.000</td>\n",
              "      <td>0.60950</td>\n",
              "      <td>0.9600</td>\n",
              "      <td>1.21950</td>\n",
              "      <td>2.096</td>\n",
              "    </tr>\n",
              "    <tr>\n",
              "      <th>Social support</th>\n",
              "      <td>312.0</td>\n",
              "      <td>1.211026</td>\n",
              "      <td>0.300310</td>\n",
              "      <td>0.000</td>\n",
              "      <td>1.05575</td>\n",
              "      <td>1.2655</td>\n",
              "      <td>1.45750</td>\n",
              "      <td>1.644</td>\n",
              "    </tr>\n",
              "    <tr>\n",
              "      <th>Healthy life expectancy</th>\n",
              "      <td>312.0</td>\n",
              "      <td>0.661295</td>\n",
              "      <td>0.252724</td>\n",
              "      <td>0.000</td>\n",
              "      <td>0.48825</td>\n",
              "      <td>0.6990</td>\n",
              "      <td>0.85800</td>\n",
              "      <td>1.141</td>\n",
              "    </tr>\n",
              "    <tr>\n",
              "      <th>Freedom to make life choices</th>\n",
              "      <td>312.0</td>\n",
              "      <td>0.423538</td>\n",
              "      <td>0.156024</td>\n",
              "      <td>0.000</td>\n",
              "      <td>0.32250</td>\n",
              "      <td>0.4495</td>\n",
              "      <td>0.54025</td>\n",
              "      <td>0.724</td>\n",
              "    </tr>\n",
              "    <tr>\n",
              "      <th>Generosity</th>\n",
              "      <td>312.0</td>\n",
              "      <td>0.182926</td>\n",
              "      <td>0.096739</td>\n",
              "      <td>0.000</td>\n",
              "      <td>0.10875</td>\n",
              "      <td>0.1755</td>\n",
              "      <td>0.24500</td>\n",
              "      <td>0.598</td>\n",
              "    </tr>\n",
              "    <tr>\n",
              "      <th>Perceptions of corruption</th>\n",
              "      <td>311.0</td>\n",
              "      <td>0.111299</td>\n",
              "      <td>0.095365</td>\n",
              "      <td>0.000</td>\n",
              "      <td>0.05000</td>\n",
              "      <td>0.0820</td>\n",
              "      <td>0.14050</td>\n",
              "      <td>0.457</td>\n",
              "    </tr>\n",
              "  </tbody>\n",
              "</table>\n",
              "</div>"
            ]
          },
          "metadata": {
            "tags": []
          },
          "execution_count": 611
        }
      ]
    },
    {
      "cell_type": "code",
      "metadata": {
        "trusted": true,
        "id": "V6RiTTEJQDBD",
        "outputId": "b04590c2-b006-42a9-92fc-a5cc6c5e24af"
      },
      "source": [
        "data.info()"
      ],
      "execution_count": null,
      "outputs": [
        {
          "output_type": "stream",
          "text": [
            "<class 'pandas.core.frame.DataFrame'>\n",
            "Int64Index: 312 entries, 0 to 155\n",
            "Data columns (total 9 columns):\n",
            "Overall rank                    312 non-null int64\n",
            "Country or region               312 non-null object\n",
            "Score                           312 non-null float64\n",
            "GDP per capita                  312 non-null float64\n",
            "Social support                  312 non-null float64\n",
            "Healthy life expectancy         312 non-null float64\n",
            "Freedom to make life choices    312 non-null float64\n",
            "Generosity                      312 non-null float64\n",
            "Perceptions of corruption       311 non-null float64\n",
            "dtypes: float64(7), int64(1), object(1)\n",
            "memory usage: 24.4+ KB\n"
          ],
          "name": "stdout"
        }
      ]
    },
    {
      "cell_type": "code",
      "metadata": {
        "trusted": true,
        "id": "rIX5a2ViQDBE",
        "outputId": "468349b2-74bc-4443-ffd2-4449d703c1b9"
      },
      "source": [
        "df = data.copy()\n",
        "df = df.select_dtypes(include=[\"float64\",\"int64\"])\n",
        "df.head()"
      ],
      "execution_count": null,
      "outputs": [
        {
          "output_type": "execute_result",
          "data": {
            "text/plain": [
              "   score    gdp  social  healthy  freedom  generosity  corruption\n",
              "0  7.632  1.305   1.592    0.874    0.681       0.202       0.393\n",
              "1  7.594  1.456   1.582    0.861    0.686       0.286       0.340\n",
              "2  7.555  1.351   1.590    0.868    0.683       0.284       0.408\n",
              "3  7.495  1.343   1.644    0.914    0.677       0.353       0.138\n",
              "4  7.487  1.420   1.549    0.927    0.660       0.256       0.357"
            ],
            "text/html": [
              "<div>\n",
              "<style scoped>\n",
              "    .dataframe tbody tr th:only-of-type {\n",
              "        vertical-align: middle;\n",
              "    }\n",
              "\n",
              "    .dataframe tbody tr th {\n",
              "        vertical-align: top;\n",
              "    }\n",
              "\n",
              "    .dataframe thead th {\n",
              "        text-align: right;\n",
              "    }\n",
              "</style>\n",
              "<table border=\"1\" class=\"dataframe\">\n",
              "  <thead>\n",
              "    <tr style=\"text-align: right;\">\n",
              "      <th></th>\n",
              "      <th>score</th>\n",
              "      <th>gdp</th>\n",
              "      <th>social</th>\n",
              "      <th>healthy</th>\n",
              "      <th>freedom</th>\n",
              "      <th>generosity</th>\n",
              "      <th>corruption</th>\n",
              "    </tr>\n",
              "  </thead>\n",
              "  <tbody>\n",
              "    <tr>\n",
              "      <th>0</th>\n",
              "      <td>7.632</td>\n",
              "      <td>1.305</td>\n",
              "      <td>1.592</td>\n",
              "      <td>0.874</td>\n",
              "      <td>0.681</td>\n",
              "      <td>0.202</td>\n",
              "      <td>0.393</td>\n",
              "    </tr>\n",
              "    <tr>\n",
              "      <th>1</th>\n",
              "      <td>7.594</td>\n",
              "      <td>1.456</td>\n",
              "      <td>1.582</td>\n",
              "      <td>0.861</td>\n",
              "      <td>0.686</td>\n",
              "      <td>0.286</td>\n",
              "      <td>0.340</td>\n",
              "    </tr>\n",
              "    <tr>\n",
              "      <th>2</th>\n",
              "      <td>7.555</td>\n",
              "      <td>1.351</td>\n",
              "      <td>1.590</td>\n",
              "      <td>0.868</td>\n",
              "      <td>0.683</td>\n",
              "      <td>0.284</td>\n",
              "      <td>0.408</td>\n",
              "    </tr>\n",
              "    <tr>\n",
              "      <th>3</th>\n",
              "      <td>7.495</td>\n",
              "      <td>1.343</td>\n",
              "      <td>1.644</td>\n",
              "      <td>0.914</td>\n",
              "      <td>0.677</td>\n",
              "      <td>0.353</td>\n",
              "      <td>0.138</td>\n",
              "    </tr>\n",
              "    <tr>\n",
              "      <th>4</th>\n",
              "      <td>7.487</td>\n",
              "      <td>1.420</td>\n",
              "      <td>1.549</td>\n",
              "      <td>0.927</td>\n",
              "      <td>0.660</td>\n",
              "      <td>0.256</td>\n",
              "      <td>0.357</td>\n",
              "    </tr>\n",
              "  </tbody>\n",
              "</table>\n",
              "</div>"
            ]
          },
          "metadata": {
            "tags": []
          },
          "execution_count": 618
        }
      ]
    },
    {
      "cell_type": "code",
      "metadata": {
        "trusted": true,
        "id": "QJzigStPQDBE",
        "outputId": "922b2b3c-8c0d-4e00-f1c3-c57075e4e9c2"
      },
      "source": [
        "outliers_vector = df_table[outliers_vector]\n",
        "outliers_vector.index.values"
      ],
      "execution_count": null,
      "outputs": [
        {
          "output_type": "execute_result",
          "data": {
            "text/plain": [
              "array([  0,   1,   2,   4,   5,   6,   7,   8,   9,  13,  14,  16,  33,\n",
              "        75,  97, 150,   0,   1,   2,   4,   5,   6,   7,   8,  10,  13,\n",
              "        15,  33,  75, 151])"
            ]
          },
          "metadata": {
            "tags": []
          },
          "execution_count": 622
        }
      ]
    },
    {
      "cell_type": "code",
      "metadata": {
        "trusted": true,
        "id": "k9dCNP6MQDBE",
        "outputId": "7aad90b8-2001-4bba-dfe2-f4eecf14572b"
      },
      "source": [
        "df_table = data.copy()\n",
        "df_table[\"score\"].iloc[outliers_vector.index.values] = df_table[\"score\"].mean()\n",
        "df_table[\"department\"].iloc[outliers_vector.index.values]"
      ],
      "execution_count": null,
      "outputs": [
        {
          "output_type": "execute_result",
          "data": {
            "text/plain": [
              "0      0.111794\n",
              "1      0.111794\n",
              "2      0.111794\n",
              "4      0.111794\n",
              "5      0.111794\n",
              "6      0.111794\n",
              "7      0.111794\n",
              "8      0.111794\n",
              "9      0.111794\n",
              "13     0.111794\n",
              "14     0.111794\n",
              "16     0.111794\n",
              "33     0.111794\n",
              "75     0.111794\n",
              "97     0.111794\n",
              "150    0.111794\n",
              "0      0.111794\n",
              "1      0.111794\n",
              "2      0.111794\n",
              "4      0.111794\n",
              "5      0.111794\n",
              "6      0.111794\n",
              "7      0.111794\n",
              "8      0.111794\n",
              "10     0.111794\n",
              "13     0.111794\n",
              "15     0.111794\n",
              "33     0.111794\n",
              "75     0.111794\n",
              "151    0.111794\n",
              "Name: corruption, dtype: float64"
            ]
          },
          "metadata": {
            "tags": []
          },
          "execution_count": 623
        }
      ]
    },
    {
      "cell_type": "code",
      "metadata": {
        "trusted": true,
        "id": "DLTfbQZTQDBE"
      },
      "source": [
        "data = df_table"
      ],
      "execution_count": null,
      "outputs": []
    },
    {
      "cell_type": "markdown",
      "metadata": {
        "id": "WVYsjtuAQDBE"
      },
      "source": [
        "# Simple Linear Regressions <a id=\"1\"></a>\n",
        "Simple linear regression is a statistical method has been applied on the world data set of 2019 and used to train our model using test dataset of university students.\n",
        "Our model is used to predict the happiness scores of Freedom, Social and Health  parameters  of university students based on world dataset.\n",
        "\n",
        "This allows us to summarize and analyze the relationships between continuous (quantitative) variables:\n",
        "\n"
      ]
    },
    {
      "cell_type": "code",
      "metadata": {
        "trusted": true,
        "id": "0L4n2HIAQDBE",
        "outputId": "4915f45d-4ca7-4532-aaae-7c0de14fdcf4"
      },
      "source": [
        "y = data[[\"score\"]]\n",
        "y.head"
      ],
      "execution_count": null,
      "outputs": [
        {
          "output_type": "execute_result",
          "data": {
            "text/plain": [
              "<bound method NDFrame.head of      score\n",
              "0    7.632\n",
              "1    7.594\n",
              "2    7.555\n",
              "3    7.495\n",
              "4    7.487\n",
              "..     ...\n",
              "151  3.334\n",
              "152  3.231\n",
              "153  3.203\n",
              "154  3.083\n",
              "155  2.853\n",
              "\n",
              "[312 rows x 1 columns]>"
            ]
          },
          "metadata": {
            "tags": []
          },
          "execution_count": 627
        }
      ]
    },
    {
      "cell_type": "code",
      "metadata": {
        "trusted": true,
        "id": "rnp9KSLYQDBF",
        "outputId": "32337691-8aee-4a5a-a72e-83805a54b4d8"
      },
      "source": [
        "reg = LinearRegression()\n",
        "model = reg.fit(X,y)\n",
        "print(\"intercept: \", model.intercept_)\n",
        "print(\"coef: \", model.coef_)\n",
        "print(\"rscore. \", model.score(X,y))"
      ],
      "execution_count": null,
      "outputs": [
        {
          "output_type": "stream",
          "text": [
            "intercept:  [3.36665334]\n",
            "coef:  [[2.25409931]]\n",
            "rscore.  0.6367680251195655\n"
          ],
          "name": "stdout"
        }
      ]
    },
    {
      "cell_type": "code",
      "metadata": {
        "trusted": true,
        "id": "1w_qf63mQDBF",
        "outputId": "68b79b40-0a68-4509-d8c7-b00a8a31f189"
      },
      "source": [
        "# model.intercept + model.coef_ * 1\n",
        "model.predict([[1]])"
      ],
      "execution_count": null,
      "outputs": [
        {
          "output_type": "execute_result",
          "data": {
            "text/plain": [
              "array([[5.62075264]])"
            ]
          },
          "metadata": {
            "tags": []
          },
          "execution_count": 630
        }
      ]
    },
    {
      "cell_type": "code",
      "metadata": {
        "trusted": true,
        "id": "U2EcyvtSQDBF"
      },
      "source": [
        "def linear_reg(col,text,prdctn):\n",
        "    \n",
        "    sns.jointplot(x=col,y=\"score\",data=df_table,kind=\"reg\")\n",
        "    plt.show()\n",
        "    \n",
        "    X = data[[col]]\n",
        "    y = data[[\"score\"]]\n",
        "    reg = LinearRegression()\n",
        "    model = reg.fit(X,y)\n",
        "    \n",
        "    # prediction\n",
        "    plt.figure(figsize=(12,6))\n",
        "    g = sns.regplot(x=data[col],y=data[\"score\"],ci=None,scatter_kws = {'color':'r','s':9})\n",
        "    g.set_title(\"Model Equation\")\n",
        "    g.set_ylabel(\"score\")\n",
        "    g.set_xlabel(col)\n",
        "    plt.show()\n",
        "    \n",
        "    print(text,\": \", model.predict([[prdctn]]))"
      ],
      "execution_count": null,
      "outputs": []
    },
    {
      "cell_type": "markdown",
      "metadata": {
        "id": "mxM6BGWAQDBF"
      },
      "source": [
        "## happiness score - social"
      ]
    },
    {
      "cell_type": "code",
      "metadata": {
        "trusted": true,
        "id": "0U1_X7bzQDBF",
        "outputId": "a58a441b-d9fb-4976-fe51-eb428f522f87"
      },
      "source": [
        "linear_reg(\"social\",\"The happiness value of the country whose sociability value is 2:\",2)"
      ],
      "execution_count": null,
      "outputs": [
        {
          "output_type": "display_data",
          "data": {
            "text/plain": [
              "<Figure size 432x432 with 3 Axes>"
            ],
            "image/png": "[encoded data removed]"
          },
          "metadata": {
            "tags": []
          }
        },
        {
          "output_type": "display_data",
          "data": {
            "text/plain": [
              "<Figure size 864x432 with 1 Axes>"
            ],
            "image/png": "[encoded data removed]"
          },
          "metadata": {
            "tags": []
          }
        },
        {
          "output_type": "stream",
          "text": [
            "The happiness value of the country whose sociability value is 2: :  [[7.62022176]]\n"
          ],
          "name": "stdout"
        }
      ]
    },
    {
      "cell_type": "code",
      "metadata": {
        "trusted": true,
        "id": "0ypm2WYLQDBF"
      },
      "source": [
        "column_list = [\"score\",\"gdp\",\"social\",\"healthy\",\"freedom\",\"generosity\",\"corruption\"]"
      ],
      "execution_count": null,
      "outputs": []
    },
    {
      "cell_type": "markdown",
      "metadata": {
        "id": "OCcMt772QDBF"
      },
      "source": [
        "## happiness score - healthy"
      ]
    },
    {
      "cell_type": "code",
      "metadata": {
        "trusted": true,
        "id": "9_I266svQDBF",
        "outputId": "0cc8c3f0-2d87-4f54-e0d0-37b3b8110f61"
      },
      "source": [
        "linear_reg(\"healthy\",\"The happiness value of the country whose healthiest value is 1.20:\",1.20)"
      ],
      "execution_count": null,
      "outputs": [
        {
          "output_type": "display_data",
          "data": {
            "text/plain": [
              "<Figure size 432x432 with 3 Axes>"
            ],
            "image/png": "[encoded data removed]"
          },
          "metadata": {
            "tags": []
          }
        },
        {
          "output_type": "display_data",
          "data": {
            "text/plain": [
              "<Figure size 864x432 with 1 Axes>"
            ],
            "image/png": "[encoded data removed]"
          },
          "metadata": {
            "tags": []
          }
        },
        {
          "output_type": "stream",
          "text": [
            "The happiness value of the country whose healthiest value is 1.20: :  [[7.18742031]]\n"
          ],
          "name": "stdout"
        }
      ]
    },
    {
      "cell_type": "markdown",
      "metadata": {
        "id": "bhh6fdUUQDBF"
      },
      "source": [
        "## happiness score - freedom"
      ]
    },
    {
      "cell_type": "code",
      "metadata": {
        "trusted": true,
        "id": "grq8nPyxQDBF",
        "outputId": "21bc1ea0-6247-4f0e-bbeb-c6f842ecc833"
      },
      "source": [
        "linear_reg(\"freedom\",\"The happiness value of the country whose freedom value is 0.89:\",0.89)"
      ],
      "execution_count": null,
      "outputs": [
        {
          "output_type": "display_data",
          "data": {
            "text/plain": [
              "<Figure size 432x432 with 3 Axes>"
            ],
            "image/png": "[encoded data removed]"
          },
          "metadata": {
            "tags": []
          }
        },
        {
          "output_type": "display_data",
          "data": {
            "text/plain": [
              "<Figure size 864x432 with 1 Axes>"
            ],
            "image/png": "[encoded data removed]"
          },
          "metadata": {
            "tags": []
          }
        },
        {
          "output_type": "stream",
          "text": [
            "The happiness value of the country whose freedom value is 0.89: :  [[7.190655]]\n"
          ],
          "name": "stdout"
        }
      ]
    },
    {
      "cell_type": "markdown",
      "metadata": {
        "id": "xvQo0FKIQDBF"
      },
      "source": [
        "# Multiple Linear Regression <a id=\"2\"></a>\n",
        "The main purpose is to find the linear function that expresses the relationship between dependent and independent variables of training and test dataset respectively. And also computing the regression parameters."
      ]
    },
    {
      "cell_type": "code",
      "metadata": {
        "trusted": true,
        "id": "px_PAtmXQDBF",
        "outputId": "e942b912-c36e-4575-aa18-4767cfe40934"
      },
      "source": [
        "import statsmodels.api as sms\n",
        "\n",
        "X = df.drop(\"score\",axis=1)\n",
        "y = df[\"score\"]\n",
        "\n",
        "\n",
        "lm = sms.OLS(y,X)\n",
        "model = lm.fit()\n",
        "model.summary()"
      ],
      "execution_count": null,
      "outputs": [
        {
          "output_type": "execute_result",
          "data": {
            "text/plain": [
              "<class 'statsmodels.iolib.summary.Summary'>\n",
              "\"\"\"\n",
              "                                 OLS Regression Results                                \n",
              "=======================================================================================\n",
              "Dep. Variable:                  score   R-squared (uncentered):                   0.986\n",
              "Model:                            OLS   Adj. R-squared (uncentered):              0.986\n",
              "Method:                 Least Squares   F-statistic:                              3622.\n",
              "Date:                Fri, 20 Nov 2020   Prob (F-statistic):                   7.57e-281\n",
              "Time:                        20:03:40   Log-Likelihood:                         -307.69\n",
              "No. Observations:                 312   AIC:                                      627.4\n",
              "Df Residuals:                     306   BIC:                                      649.8\n",
              "Df Model:                           6                                                  \n",
              "Covariance Type:            nonrobust                                                  \n",
              "==============================================================================\n",
              "                 coef    std err          t      P>|t|      [0.025      0.975]\n",
              "------------------------------------------------------------------------------\n",
              "gdp            0.5774      0.178      3.238      0.001       0.226       0.928\n",
              "social         2.2624      0.153     14.780      0.000       1.961       2.564\n",
              "healthy        1.2506      0.260      4.805      0.000       0.738       1.763\n",
              "freedom        1.8640      0.289      6.447      0.000       1.295       2.433\n",
              "generosity     2.0380      0.399      5.109      0.000       1.253       2.823\n",
              "corruption     0.5464      0.468      1.169      0.243      -0.374       1.466\n",
              "==============================================================================\n",
              "Omnibus:                        6.324   Durbin-Watson:                   2.057\n",
              "Prob(Omnibus):                  0.042   Jarque-Bera (JB):                7.204\n",
              "Skew:                           0.212   Prob(JB):                       0.0273\n",
              "Kurtosis:                       3.612   Cond. No.                         24.4\n",
              "==============================================================================\n",
              "\n",
              "Warnings:\n",
              "[1] Standard Errors assume that the covariance matrix of the errors is correctly specified.\n",
              "\"\"\""
            ],
            "text/html": [
              "<table class=\"simpletable\">\n",
              "<caption>OLS Regression Results</caption>\n",
              "<tr>\n",
              "  <th>Dep. Variable:</th>          <td>score</td>      <th>  R-squared (uncentered):</th>      <td>   0.986</td> \n",
              "</tr>\n",
              "<tr>\n",
              "  <th>Model:</th>                   <td>OLS</td>       <th>  Adj. R-squared (uncentered):</th> <td>   0.986</td> \n",
              "</tr>\n",
              "<tr>\n",
              "  <th>Method:</th>             <td>Least Squares</td>  <th>  F-statistic:       </th>          <td>   3622.</td> \n",
              "</tr>\n",
              "<tr>\n",
              "  <th>Date:</th>             <td>Fri, 20 Nov 2020</td> <th>  Prob (F-statistic):</th>          <td>7.57e-281</td>\n",
              "</tr>\n",
              "<tr>\n",
              "  <th>Time:</th>                 <td>20:03:40</td>     <th>  Log-Likelihood:    </th>          <td> -307.69</td> \n",
              "</tr>\n",
              "<tr>\n",
              "  <th>No. Observations:</th>      <td>   312</td>      <th>  AIC:               </th>          <td>   627.4</td> \n",
              "</tr>\n",
              "<tr>\n",
              "  <th>Df Residuals:</th>          <td>   306</td>      <th>  BIC:               </th>          <td>   649.8</td> \n",
              "</tr>\n",
              "<tr>\n",
              "  <th>Df Model:</th>              <td>     6</td>      <th>                     </th>              <td> </td>    \n",
              "</tr>\n",
              "<tr>\n",
              "  <th>Covariance Type:</th>      <td>nonrobust</td>    <th>                     </th>              <td> </td>    \n",
              "</tr>\n",
              "</table>\n",
              "<table class=\"simpletable\">\n",
              "<tr>\n",
              "       <td></td>         <th>coef</th>     <th>std err</th>      <th>t</th>      <th>P>|t|</th>  <th>[0.025</th>    <th>0.975]</th>  \n",
              "</tr>\n",
              "<tr>\n",
              "  <th>gdp</th>        <td>    0.5774</td> <td>    0.178</td> <td>    3.238</td> <td> 0.001</td> <td>    0.226</td> <td>    0.928</td>\n",
              "</tr>\n",
              "<tr>\n",
              "  <th>social</th>     <td>    2.2624</td> <td>    0.153</td> <td>   14.780</td> <td> 0.000</td> <td>    1.961</td> <td>    2.564</td>\n",
              "</tr>\n",
              "<tr>\n",
              "  <th>healthy</th>    <td>    1.2506</td> <td>    0.260</td> <td>    4.805</td> <td> 0.000</td> <td>    0.738</td> <td>    1.763</td>\n",
              "</tr>\n",
              "<tr>\n",
              "  <th>freedom</th>    <td>    1.8640</td> <td>    0.289</td> <td>    6.447</td> <td> 0.000</td> <td>    1.295</td> <td>    2.433</td>\n",
              "</tr>\n",
              "<tr>\n",
              "  <th>generosity</th> <td>    2.0380</td> <td>    0.399</td> <td>    5.109</td> <td> 0.000</td> <td>    1.253</td> <td>    2.823</td>\n",
              "</tr>\n",
              "<tr>\n",
              "  <th>corruption</th> <td>    0.5464</td> <td>    0.468</td> <td>    1.169</td> <td> 0.243</td> <td>   -0.374</td> <td>    1.466</td>\n",
              "</tr>\n",
              "</table>\n",
              "<table class=\"simpletable\">\n",
              "<tr>\n",
              "  <th>Omnibus:</th>       <td> 6.324</td> <th>  Durbin-Watson:     </th> <td>   2.057</td>\n",
              "</tr>\n",
              "<tr>\n",
              "  <th>Prob(Omnibus):</th> <td> 0.042</td> <th>  Jarque-Bera (JB):  </th> <td>   7.204</td>\n",
              "</tr>\n",
              "<tr>\n",
              "  <th>Skew:</th>          <td> 0.212</td> <th>  Prob(JB):          </th> <td>  0.0273</td>\n",
              "</tr>\n",
              "<tr>\n",
              "  <th>Kurtosis:</th>      <td> 3.612</td> <th>  Cond. No.          </th> <td>    24.4</td>\n",
              "</tr>\n",
              "</table><br/><br/>Warnings:<br/>[1] Standard Errors assume that the covariance matrix of the errors is correctly specified."
            ]
          },
          "metadata": {
            "tags": []
          },
          "execution_count": 637
        }
      ]
    },
    {
      "cell_type": "code",
      "metadata": {
        "trusted": true,
        "id": "D7X_K6a4QDBF",
        "outputId": "250e965e-d3b3-453d-8987-054928c4e6c4"
      },
      "source": [
        "# create model with sckit learn\n",
        "\n",
        "lm = LinearRegression()\n",
        "model = lm.fit(X,y)\n",
        "print(\"constant: \",model.intercept_)\n",
        "print(\"coefficient: \",model.coef_)"
      ],
      "execution_count": null,
      "outputs": [
        {
          "output_type": "stream",
          "text": [
            "constant:  1.8541077926951237\n",
            "coefficient:  [0.929921   1.06504217 0.94321492 1.40426054 0.52070628 0.88114008]\n"
          ],
          "name": "stdout"
        }
      ]
    },
    {
      "cell_type": "code",
      "metadata": {
        "trusted": true,
        "id": "MrGTP2WJQDBG",
        "outputId": "ef7481f0-5c95-49e8-d028-f30cbcb7bd70"
      },
      "source": [
        "# PREDICTION\n",
        "# Score = 1.06504217*social + 0.94321492*healthy + 1.40426054*freedom \n",
        "\n",
        "new_data = [[1.25],[1.75],[0.75]]\n",
        "new_data = pd.DataFrame(new_data).T\n",
        "new_data"
      ],
      "execution_count": null,
      "outputs": [
        {
          "output_type": "execute_result",
          "data": {
            "text/plain": [
              "     0    1     2     3    4     5\n",
              "0  1.0  2.0  1.25  1.75  1.5  0.75"
            ],
            "text/html": [
              "<div>\n",
              "<style scoped>\n",
              "    .dataframe tbody tr th:only-of-type {\n",
              "        vertical-align: middle;\n",
              "    }\n",
              "\n",
              "    .dataframe tbody tr th {\n",
              "        vertical-align: top;\n",
              "    }\n",
              "\n",
              "    .dataframe thead th {\n",
              "        text-align: right;\n",
              "    }\n",
              "</style>\n",
              "<table border=\"1\" class=\"dataframe\">\n",
              "  <thead>\n",
              "    <tr style=\"text-align: right;\">\n",
              "      <th></th>\n",
              "      <th>0</th>\n",
              "      <th>1</th>\n",
              "      <th>2</th>\n",
              "      <th>3</th>\n",
              "      <th>4</th>\n",
              "      <th>5</th>\n",
              "    </tr>\n",
              "  </thead>\n",
              "  <tbody>\n",
              "    <tr>\n",
              "      <th>0</th>\n",
              "      <td>1.0</td>\n",
              "      <td>2.0</td>\n",
              "      <td>1.25</td>\n",
              "      <td>1.75</td>\n",
              "      <td>1.5</td>\n",
              "      <td>0.75</td>\n",
              "    </tr>\n",
              "  </tbody>\n",
              "</table>\n",
              "</div>"
            ]
          },
          "metadata": {
            "tags": []
          },
          "execution_count": 639
        }
      ]
    },
    {
      "cell_type": "code",
      "metadata": {
        "trusted": true,
        "id": "8ngNJmolQDBG",
        "outputId": "3c12da7c-2e3f-4a60-ffc6-831bd97ae691"
      },
      "source": [
        "model.predict(new_data)"
      ],
      "execution_count": null,
      "outputs": [
        {
          "output_type": "execute_result",
          "data": {
            "text/plain": [
              "array([9.99250222])"
            ]
          },
          "metadata": {
            "tags": []
          },
          "execution_count": 640
        }
      ]
    },
    {
      "cell_type": "code",
      "metadata": {
        "trusted": true,
        "id": "Q0aK0XajQDBG",
        "outputId": "6a9270a5-2acf-45d6-a1d8-8de043fb3fa1"
      },
      "source": [
        "# calculating the amount of error\n",
        "\n",
        "from sklearn.metrics import mean_squared_error\n",
        "\n",
        "MSE = mean_squared_error(y,model.predict(X))\n",
        "RMSE = np.sqrt(MSE)\n",
        "\n",
        "print(\"MSE: \", MSE)\n",
        "print(\"RMSE: \", RMSE)"
      ],
      "execution_count": null,
      "outputs": [
        {
          "output_type": "stream",
          "text": [
            "MSE:  0.267683073163503\n",
            "RMSE:  0.5173809748758674\n"
          ],
          "name": "stdout"
        }
      ]
    },
    {
      "cell_type": "markdown",
      "metadata": {
        "id": "ivlk7bLpQDBG"
      },
      "source": [
        "# Simple Linear & Multiple Linear Regression - Model Creaton using World dataset as training data and test data as utkal university students dataset. <a id=\"3\"></a>"
      ]
    },
    {
      "cell_type": "code",
      "metadata": {
        "trusted": true,
        "id": "f1_UUKDmQDBG",
        "outputId": "44a6c23a-9ac5-4e73-9767-eca00b360097"
      },
      "source": [
        "from sklearn.model_selection import train_test_split\n",
        "\n",
        "X = df.drop(\"score\",axis=1)\n",
        "y = df[\"score\"]\n",
        "\n",
        "X_train, X_test, y_train, y_test = train_test_split(X, y, test_size=0.2, random_state=42)\n",
        "X_train.head()"
      ],
      "execution_count": null,
      "outputs": [
        {
          "output_type": "execute_result",
          "data": {
            "text/plain": [
              "       gdp  social  healthy  freedom  generosity  corruption\n",
              "111  0.916   0.817    0.790    0.419       0.149       0.032\n",
              "52   1.187   1.465    0.812    0.264       0.075       0.064\n",
              "145  1.017   1.174    0.417    0.557       0.042       0.092\n",
              "47   1.162   1.232    0.825    0.462       0.083       0.005\n",
              "78   1.154   1.202    0.879    0.131       0.000       0.044"
            ],
            "text/html": [
              "<div>\n",
              "<style scoped>\n",
              "    .dataframe tbody tr th:only-of-type {\n",
              "        vertical-align: middle;\n",
              "    }\n",
              "\n",
              "    .dataframe tbody tr th {\n",
              "        vertical-align: top;\n",
              "    }\n",
              "\n",
              "    .dataframe thead th {\n",
              "        text-align: right;\n",
              "    }\n",
              "</style>\n",
              "<table border=\"1\" class=\"dataframe\">\n",
              "  <thead>\n",
              "    <tr style=\"text-align: right;\">\n",
              "      <th></th>\n",
              "      <th>gdp</th>\n",
              "      <th>social</th>\n",
              "      <th>healthy</th>\n",
              "      <th>freedom</th>\n",
              "      <th>generosity</th>\n",
              "      <th>corruption</th>\n",
              "    </tr>\n",
              "  </thead>\n",
              "  <tbody>\n",
              "    <tr>\n",
              "      <th>111</th>\n",
              "      <td>0.916</td>\n",
              "      <td>0.817</td>\n",
              "      <td>0.790</td>\n",
              "      <td>0.419</td>\n",
              "      <td>0.149</td>\n",
              "      <td>0.032</td>\n",
              "    </tr>\n",
              "    <tr>\n",
              "      <th>52</th>\n",
              "      <td>1.187</td>\n",
              "      <td>1.465</td>\n",
              "      <td>0.812</td>\n",
              "      <td>0.264</td>\n",
              "      <td>0.075</td>\n",
              "      <td>0.064</td>\n",
              "    </tr>\n",
              "    <tr>\n",
              "      <th>145</th>\n",
              "      <td>1.017</td>\n",
              "      <td>1.174</td>\n",
              "      <td>0.417</td>\n",
              "      <td>0.557</td>\n",
              "      <td>0.042</td>\n",
              "      <td>0.092</td>\n",
              "    </tr>\n",
              "    <tr>\n",
              "      <th>47</th>\n",
              "      <td>1.162</td>\n",
              "      <td>1.232</td>\n",
              "      <td>0.825</td>\n",
              "      <td>0.462</td>\n",
              "      <td>0.083</td>\n",
              "      <td>0.005</td>\n",
              "    </tr>\n",
              "    <tr>\n",
              "      <th>78</th>\n",
              "      <td>1.154</td>\n",
              "      <td>1.202</td>\n",
              "      <td>0.879</td>\n",
              "      <td>0.131</td>\n",
              "      <td>0.000</td>\n",
              "      <td>0.044</td>\n",
              "    </tr>\n",
              "  </tbody>\n",
              "</table>\n",
              "</div>"
            ]
          },
          "metadata": {
            "tags": []
          },
          "execution_count": 642
        }
      ]
    },
    {
      "cell_type": "code",
      "metadata": {
        "trusted": true,
        "id": "m1eDD_5eQDBG",
        "outputId": "76945105-40a2-4067-efe2-f5bbb21f1358"
      },
      "source": [
        "X_test.head()"
      ],
      "execution_count": null,
      "outputs": [
        {
          "output_type": "execute_result",
          "data": {
            "text/plain": [
              "      gdp  social  healthy  freedom  generosity  corruption\n",
              "72  1.051   1.361    0.871    0.197       0.142       0.080\n",
              "9   1.340   1.573    0.910    0.647       0.361       0.302\n",
              "57  1.229   1.211    0.909    0.495       0.179       0.154\n",
              "60  1.229   1.191    0.909    0.423       0.202       0.035\n",
              "25  1.365   1.436    0.857    0.418       0.151       0.078"
            ],
            "text/html": [
              "<div>\n",
              "<style scoped>\n",
              "    .dataframe tbody tr th:only-of-type {\n",
              "        vertical-align: middle;\n",
              "    }\n",
              "\n",
              "    .dataframe tbody tr th {\n",
              "        vertical-align: top;\n",
              "    }\n",
              "\n",
              "    .dataframe thead th {\n",
              "        text-align: right;\n",
              "    }\n",
              "</style>\n",
              "<table border=\"1\" class=\"dataframe\">\n",
              "  <thead>\n",
              "    <tr style=\"text-align: right;\">\n",
              "      <th></th>\n",
              "      <th>gdp</th>\n",
              "      <th>social</th>\n",
              "      <th>healthy</th>\n",
              "      <th>freedom</th>\n",
              "      <th>generosity</th>\n",
              "      <th>corruption</th>\n",
              "    </tr>\n",
              "  </thead>\n",
              "  <tbody>\n",
              "    <tr>\n",
              "      <th>72</th>\n",
              "      <td>1.051</td>\n",
              "      <td>1.361</td>\n",
              "      <td>0.871</td>\n",
              "      <td>0.197</td>\n",
              "      <td>0.142</td>\n",
              "      <td>0.080</td>\n",
              "    </tr>\n",
              "    <tr>\n",
              "      <th>9</th>\n",
              "      <td>1.340</td>\n",
              "      <td>1.573</td>\n",
              "      <td>0.910</td>\n",
              "      <td>0.647</td>\n",
              "      <td>0.361</td>\n",
              "      <td>0.302</td>\n",
              "    </tr>\n",
              "    <tr>\n",
              "      <th>57</th>\n",
              "      <td>1.229</td>\n",
              "      <td>1.211</td>\n",
              "      <td>0.909</td>\n",
              "      <td>0.495</td>\n",
              "      <td>0.179</td>\n",
              "      <td>0.154</td>\n",
              "    </tr>\n",
              "    <tr>\n",
              "      <th>60</th>\n",
              "      <td>1.229</td>\n",
              "      <td>1.191</td>\n",
              "      <td>0.909</td>\n",
              "      <td>0.423</td>\n",
              "      <td>0.202</td>\n",
              "      <td>0.035</td>\n",
              "    </tr>\n",
              "    <tr>\n",
              "      <th>25</th>\n",
              "      <td>1.365</td>\n",
              "      <td>1.436</td>\n",
              "      <td>0.857</td>\n",
              "      <td>0.418</td>\n",
              "      <td>0.151</td>\n",
              "      <td>0.078</td>\n",
              "    </tr>\n",
              "  </tbody>\n",
              "</table>\n",
              "</div>"
            ]
          },
          "metadata": {
            "tags": []
          },
          "execution_count": 643
        }
      ]
    },
    {
      "cell_type": "code",
      "metadata": {
        "trusted": true,
        "id": "A5ubIK8KQDBG",
        "outputId": "a386ca26-4c2a-49f5-ba15-326032304683"
      },
      "source": [
        "y_train.head()"
      ],
      "execution_count": null,
      "outputs": [
        {
          "output_type": "execute_result",
          "data": {
            "text/plain": [
              "111    4.586\n",
              "52     5.940\n",
              "145    3.590\n",
              "47     6.070\n",
              "78     5.358\n",
              "Name: score, dtype: float64"
            ]
          },
          "metadata": {
            "tags": []
          },
          "execution_count": 644
        }
      ]
    },
    {
      "cell_type": "code",
      "metadata": {
        "trusted": true,
        "id": "PS88Zkr7QDBG",
        "outputId": "a4a7d361-18e5-4a95-d904-5b78e0e264f9"
      },
      "source": [
        "y_test.head()"
      ],
      "execution_count": null,
      "outputs": [
        {
          "output_type": "execute_result",
          "data": {
            "text/plain": [
              "72    5.523\n",
              "9     7.272\n",
              "57    5.835\n",
              "60    5.762\n",
              "25    6.441\n",
              "Name: score, dtype: float64"
            ]
          },
          "metadata": {
            "tags": []
          },
          "execution_count": 645
        }
      ]
    },
    {
      "cell_type": "code",
      "metadata": {
        "trusted": true,
        "id": "wM71OdekQDBG",
        "outputId": "abec76da-10c5-41eb-9a82-76c5617632ba"
      },
      "source": [
        "lm = LinearRegression()\n",
        "lm.fit(X_train, y_train)\n",
        "print(\"Training error\",np.sqrt(mean_squared_error(y_train,model.predict(X_train))))\n",
        "print(\"Test error\",np.sqrt(mean_squared_error(y_test,model.predict(X_test))))"
      ],
      "execution_count": null,
      "outputs": [
        {
          "output_type": "stream",
          "text": [
            "Training error 0.5286863282545513\n",
            "Test error 0.47004423364757836\n"
          ],
          "name": "stdout"
        }
      ]
    },
    {
      "cell_type": "code",
      "metadata": {
        "trusted": true,
        "id": "7YfOZI0YQDBH",
        "outputId": "1989541b-35a6-4fec-dd71-cb613720c9a8"
      },
      "source": [
        "from sklearn.model_selection import cross_val_score\n",
        "\n",
        "cross_val_score(model, X_train, y_train, cv=10, scoring=\"neg_mean_squared_error\")"
      ],
      "execution_count": null,
      "outputs": [
        {
          "output_type": "execute_result",
          "data": {
            "text/plain": [
              "array([-0.38049606, -0.23987782, -0.24029   , -0.41370114, -0.16258143,\n",
              "       -0.37149593, -0.25642041, -0.39761278, -0.21403289, -0.29719585])"
            ]
          },
          "metadata": {
            "tags": []
          },
          "execution_count": 647
        }
      ]
    },
    {
      "cell_type": "code",
      "metadata": {
        "trusted": true,
        "id": "f6HJVOt1QDBH",
        "outputId": "1dfc4a17-5b55-4582-d390-7f3285b166f7"
      },
      "source": [
        "cvs_avg_mse = np.mean(-cross_val_score(model, X_train, y_train, cv=20, scoring=\"neg_mean_squared_error\"))\n",
        "cvs_avg_rmse = np.sqrt(cvs_avg_mse)\n",
        "\n",
        "print(\"Cross Val Score MSE = \",cvs_avg_mse)\n",
        "print(\"Cross Val Score RMSE = \",cvs_avg_rmse)"
      ],
      "execution_count": null,
      "outputs": [
        {
          "output_type": "stream",
          "text": [
            "Cross Val Score MSE =  0.29454868947078483\n",
            "Cross Val Score RMSE =  0.5427234005188876\n"
          ],
          "name": "stdout"
        }
      ]
    },
    {
      "cell_type": "code",
      "metadata": {
        "trusted": true,
        "id": "aIuj9w98QDBH"
      },
      "source": [
        "#Ridge Model\n",
        "\n",
        "import numpy as np\n",
        "import pandas as pd\n",
        "from sklearn.linear_model import Ridge\n",
        "from sklearn.metrics import mean_squared_error,r2_score\n",
        "from sklearn.model_selection import train_test_split\n",
        "from sklearn import model_selection\n",
        "from sklearn.linear_model import RidgeCV"
      ],
      "execution_count": null,
      "outputs": []
    },
    {
      "cell_type": "code",
      "metadata": {
        "trusted": true,
        "id": "fK7L3UxKQDBH",
        "outputId": "e19452dd-880e-495c-a32f-44a6cef8cd86"
      },
      "source": [
        "ridge_model.coef_"
      ],
      "execution_count": null,
      "outputs": [
        {
          "output_type": "execute_result",
          "data": {
            "text/plain": [
              "array([0.94225637, 1.02043421, 0.93689001, 1.44712035, 0.35979844,\n",
              "       0.97107389])"
            ]
          },
          "metadata": {
            "tags": []
          },
          "execution_count": 651
        }
      ]
    },
    {
      "cell_type": "code",
      "metadata": {
        "trusted": true,
        "id": "a_cSfkPNQDBH",
        "outputId": "95725cfd-856b-4591-8631-e87e934b4728"
      },
      "source": [
        "\n",
        "for i in lambdas:\n",
        "    ridge_model.set_params(alpha=i)\n",
        "    ridge_model.fit(X_train,y_train)\n",
        "    coefs.append(ridge_model.coef_)\n",
        "plt.xlabel('Regression parameters using University Students dataset', fontsize = 15)\n",
        "plt.ylabel('Happiness Score', fontsize = 15)\n",
        "ax = plt.gca()\n",
        "ax.plot(lambdas, coefs)\n",
        "ax.set_xscale(\"log\")"
      ],
      "execution_count": null,
      "outputs": [
        {
          "output_type": "display_data",
          "data": {
            "text/plain": [
              "<Figure size 432x288 with 1 Axes>"
            ],
            "image/png": "[encoded data removed]"
          },
          "metadata": {
            "tags": []
          }
        }
      ]
    },
    {
      "cell_type": "code",
      "metadata": {
        "trusted": true,
        "id": "qdgEV40sQDBH",
        "outputId": "cba72e10-dbfc-4913-fce4-1d22b36b71ba"
      },
      "source": [
        "ridge_model = Ridge().fit(X_train,y_train)\n",
        "\n",
        "y_pred = ridge_model.predict(X_train)\n",
        "\n",
        "print(\"predict: \", y_pred[0:10])\n",
        "print(\"real: \", y_train[0:10].values)"
      ],
      "execution_count": null,
      "outputs": [
        {
          "output_type": "stream",
          "text": [
            "predict:  [5.05318836 5.79071673 5.37059901 5.75868845 5.33588452 5.47787414\n",
            " 5.95562654 5.72047349 6.84044342 6.15987674]\n",
            "real:  [4.586 5.94  3.59  6.07  5.358 5.208 5.79  5.191 7.328 6.375]\n"
          ],
          "name": "stdout"
        }
      ]
    },
    {
      "cell_type": "code",
      "metadata": {
        "trusted": true,
        "id": "Iz2GCQH3QDBH",
        "outputId": "18bb11d0-9e3a-436a-9d32-04db49d2141b"
      },
      "source": [
        "RMSE = np.mean(mean_squared_error(y_train,y_pred)) # rmse = square root of the mean of error squares\n",
        "print(\"train error: \", RMSE)"
      ],
      "execution_count": null,
      "outputs": [
        {
          "output_type": "stream",
          "text": [
            "train error:  0.28067189344529464\n"
          ],
          "name": "stdout"
        }
      ]
    },
    {
      "cell_type": "code",
      "metadata": {
        "trusted": true,
        "id": "iDC8K_N0QDBH",
        "outputId": "25d0d16a-164d-4554-a7f1-90b44e99faf8"
      },
      "source": [
        "Verified_RMSE = np.sqrt(np.mean(-cross_val_score(ridge_model, X_train, y_train, cv=20, scoring=\"neg_mean_squared_error\")))\n",
        "print(\"Verified_RMSE: \", Verified_RMSE)"
      ],
      "execution_count": null,
      "outputs": [
        {
          "output_type": "stream",
          "text": [
            "Verified_RMSE:  0.5410728899647692\n"
          ],
          "name": "stdout"
        }
      ]
    },
    {
      "cell_type": "code",
      "metadata": {
        "trusted": true,
        "id": "T6iZPUlGQDBI",
        "outputId": "9993adeb-4b85-4ff4-b1a6-6c5bff044ab1"
      },
      "source": [
        "# test error using University Students dataset as testdata\n",
        "\n",
        "\n",
        "y_pred = ridge_model.predict(X_test)\n",
        "RMSE = np.mean(mean_squared_error(y_test,y_pred))\n",
        "print(\"test error: \", RMSE)"
      ],
      "execution_count": null,
      "outputs": [
        {
          "output_type": "stream",
          "text": [
            "test error:  0.22371217702527896\n"
          ],
          "name": "stdout"
        }
      ]
    },
    {
      "cell_type": "code",
      "metadata": {
        "trusted": true,
        "id": "6j6EC3O8QDBI",
        "outputId": "05c801b4-e17e-4681-90e4-ade636360be6"
      },
      "source": [
        "ridge_model = Ridge(10).fit(X_train,y_train)\n",
        "y_pred = ridge_model.predict(X_test)\n",
        "np.sqrt(mean_squared_error(y_test,y_pred))"
      ],
      "execution_count": null,
      "outputs": [
        {
          "output_type": "execute_result",
          "data": {
            "text/plain": [
              "0.5102254754869215"
            ]
          },
          "metadata": {
            "tags": []
          },
          "execution_count": 657
        }
      ]
    },
    {
      "cell_type": "code",
      "metadata": {
        "trusted": true,
        "id": "0fmECc_aQDBI",
        "outputId": "1afd90e0-8c6f-4bb6-8b3a-d77f873be5e5"
      },
      "source": [
        "ridge_model = Ridge(30).fit(X_train,y_train)\n",
        "y_pred = ridge_model.predict(X_test)\n",
        "np.sqrt(mean_squared_error(y_test,y_pred))"
      ],
      "execution_count": null,
      "outputs": [
        {
          "output_type": "execute_result",
          "data": {
            "text/plain": [
              "0.5983602488673111"
            ]
          },
          "metadata": {
            "tags": []
          },
          "execution_count": 658
        }
      ]
    },
    {
      "cell_type": "code",
      "metadata": {
        "trusted": true,
        "id": "EcrUlcYQQDBI",
        "outputId": "f54be841-c934-4dda-9892-7e2f00d06be7"
      },
      "source": [
        "ridge_model = Ridge(80).fit(X_train,y_train)\n",
        "y_pred = ridge_model.predict(X_test)\n",
        "np.sqrt(mean_squared_error(y_test,y_pred))"
      ],
      "execution_count": null,
      "outputs": [
        {
          "output_type": "execute_result",
          "data": {
            "text/plain": [
              "0.7710248515673939"
            ]
          },
          "metadata": {
            "tags": []
          },
          "execution_count": 659
        }
      ]
    },
    {
      "cell_type": "code",
      "metadata": {
        "trusted": true,
        "id": "6G2W3YotQDBI",
        "outputId": "136578f9-03ff-4e83-ece2-5227f2a0c4c1"
      },
      "source": [
        "ridgeCV.alpha_"
      ],
      "execution_count": null,
      "outputs": [
        {
          "output_type": "execute_result",
          "data": {
            "text/plain": [
              "0.0932603346883218"
            ]
          },
          "metadata": {
            "tags": []
          },
          "execution_count": 661
        }
      ]
    },
    {
      "cell_type": "code",
      "metadata": {
        "trusted": true,
        "id": "lXmho6v0QDBI",
        "outputId": "3ecdbd89-e303-47f7-a1dc-c98addd17f99"
      },
      "source": [
        "# final model\n",
        "ridge_tuned = Ridge(alpha = ridgeCV.alpha_).fit(X_train,y_train)\n",
        "y_pred = ridge_tuned.predict(X_test)\n",
        "np.sqrt(mean_squared_error(y_test,y_pred))"
      ],
      "execution_count": null,
      "outputs": [
        {
          "output_type": "execute_result",
          "data": {
            "text/plain": [
              "0.4739437357393685"
            ]
          },
          "metadata": {
            "tags": []
          },
          "execution_count": 662
        }
      ]
    },
    {
      "cell_type": "code",
      "metadata": {
        "trusted": true,
        "id": "dqRq4Z2XQDBI",
        "outputId": "11f72938-5106-4685-f11e-6cf6f906e058"
      },
      "source": [
        "# for lambdas2\n",
        "ridgeCV = RidgeCV(alphas = lambdas2,scoring = \"neg_mean_squared_error\", cv=10, normalize=True)\n",
        "ridgeCV.fit(X_train,y_train)\n",
        "ridge_tuned = Ridge(alpha = ridgeCV.alpha_).fit(X_train,y_train)\n",
        "y_pred = ridge_tuned.predict(X_test)\n",
        "np.sqrt(mean_squared_error(y_test,y_pred))"
      ],
      "execution_count": null,
      "outputs": [
        {
          "output_type": "execute_result",
          "data": {
            "text/plain": [
              "0.5733853710822102"
            ]
          },
          "metadata": {
            "tags": []
          },
          "execution_count": 663
        }
      ]
    },
    {
      "cell_type": "code",
      "metadata": {
        "trusted": true,
        "id": "y1brjLU5QDBI"
      },
      "source": [
        "# Required Libraries\n",
        "\n",
        "# Lasso Regression\n",
        "\n",
        "import numpy as np\n",
        "import pandas as pd\n",
        "from sklearn.linear_model import Ridge,Lasso\n",
        "from sklearn.metrics import mean_squared_error,r2_score\n",
        "from sklearn.model_selection import train_test_split, cross_val_score\n",
        "from sklearn import model_selection\n",
        "from sklearn.linear_model import RidgeCV, LassoCV"
      ],
      "execution_count": null,
      "outputs": []
    },
    {
      "cell_type": "code",
      "metadata": {
        "trusted": true,
        "id": "YSAW0zgmQDBI"
      },
      "source": [
        "X = df.drop(\"score\",axis=1)\n",
        "y = df[\"score\"]\n",
        "X_train, X_test, y_train, y_test = train_test_split(X, y, test_size=0.33, random_state=42)\n",
        "\n",
        "lasso_model = Lasso().fit(X_train,y_train)"
      ],
      "execution_count": null,
      "outputs": []
    },
    {
      "cell_type": "code",
      "metadata": {
        "trusted": true,
        "id": "xTwclU8xQDBI",
        "outputId": "fa896aeb-3097-47be-e631-495b62a3edcf"
      },
      "source": [
        "print(\"intercept: \", lasso_model.intercept_)\n",
        "print(\"coef: \", lasso_model.coef_)"
      ],
      "execution_count": null,
      "outputs": [
        {
          "output_type": "stream",
          "text": [
            "intercept:  5.346196172248804\n",
            "coef:  [0. 0. 0. 0. 0. 0.]\n"
          ],
          "name": "stdout"
        }
      ]
    },
    {
      "cell_type": "markdown",
      "metadata": {
        "id": "XiRwc4HAQDBJ"
      },
      "source": [
        "##  Predictions"
      ]
    },
    {
      "cell_type": "code",
      "metadata": {
        "trusted": true,
        "id": "U5hZrmAgQDBJ",
        "outputId": "838b556d-9ee8-4ebf-a25d-5cd1ecfec95d"
      },
      "source": [
        "lasso_model"
      ],
      "execution_count": null,
      "outputs": [
        {
          "output_type": "execute_result",
          "data": {
            "text/plain": [
              "Lasso(alpha=1.0, copy_X=True, fit_intercept=True, max_iter=1000,\n",
              "      normalize=False, positive=False, precompute=False, random_state=None,\n",
              "      selection='cyclic', tol=0.0001, warm_start=False)"
            ]
          },
          "metadata": {
            "tags": []
          },
          "execution_count": 669
        }
      ]
    },
    {
      "cell_type": "code",
      "metadata": {
        "trusted": true,
        "id": "M8fJoK8-QDBJ",
        "outputId": "3df68640-aca4-4f3b-8eee-421693624e74"
      },
      "source": [
        "lasso_model.predict(X_train)[0:5]"
      ],
      "execution_count": null,
      "outputs": [
        {
          "output_type": "execute_result",
          "data": {
            "text/plain": [
              "array([5.34619617, 5.34619617, 5.34619617, 5.34619617, 5.34619617])"
            ]
          },
          "metadata": {
            "tags": []
          },
          "execution_count": 670
        }
      ]
    },
    {
      "cell_type": "code",
      "metadata": {
        "trusted": true,
        "id": "vZD5Eh5uQDBJ",
        "outputId": "9ff479af-f87b-4224-af2d-e2b92b77e5e0"
      },
      "source": [
        "lasso_model.predict(X_test)[0:5]"
      ],
      "execution_count": null,
      "outputs": [
        {
          "output_type": "execute_result",
          "data": {
            "text/plain": [
              "array([5.34619617, 5.34619617, 5.34619617, 5.34619617, 5.34619617])"
            ]
          },
          "metadata": {
            "tags": []
          },
          "execution_count": 671
        }
      ]
    },
    {
      "cell_type": "code",
      "metadata": {
        "trusted": true,
        "id": "uRGJ4AR2QDBJ",
        "outputId": "5ab41f3d-7113-4fd4-df7d-abec358364f2"
      },
      "source": [
        "y_pred = lasso_model.predict(X_test)\n",
        "np.sqrt(mean_squared_error(y_test,y_pred))"
      ],
      "execution_count": null,
      "outputs": [
        {
          "output_type": "execute_result",
          "data": {
            "text/plain": [
              "1.108776315534746"
            ]
          },
          "metadata": {
            "tags": []
          },
          "execution_count": 672
        }
      ]
    },
    {
      "cell_type": "code",
      "metadata": {
        "trusted": true,
        "id": "sAu6qXfXQDBJ",
        "outputId": "63413be6-354d-4fef-fa5a-0db208b67828"
      },
      "source": [
        "r2_score(y_test,y_pred)"
      ],
      "execution_count": null,
      "outputs": [
        {
          "output_type": "execute_result",
          "data": {
            "text/plain": [
              "-0.015561293164185752"
            ]
          },
          "metadata": {
            "tags": []
          },
          "execution_count": 673
        }
      ]
    },
    {
      "cell_type": "markdown",
      "metadata": {
        "id": "ws3IVF9KQDBJ"
      },
      "source": [
        "## Regression - Model Computations using testdata of University Students"
      ]
    },
    {
      "cell_type": "code",
      "metadata": {
        "trusted": true,
        "id": "ta02zcrQQDBJ",
        "outputId": "7a3cf016-b5cf-4864-d0a5-3b6584cf8852"
      },
      "source": [
        "lasso_cv_model = LassoCV(cv=10,max_iter=1000).fit(X_train,y_train)\n",
        "lasso_cv_model"
      ],
      "execution_count": null,
      "outputs": [
        {
          "output_type": "execute_result",
          "data": {
            "text/plain": [
              "LassoCV(alphas=None, copy_X=True, cv=10, eps=0.001, fit_intercept=True,\n",
              "        max_iter=100000, n_alphas=100, n_jobs=None, normalize=False,\n",
              "        positive=False, precompute='auto', random_state=None,\n",
              "        selection='cyclic', tol=0.0001, verbose=False)"
            ]
          },
          "metadata": {
            "tags": []
          },
          "execution_count": 674
        }
      ]
    },
    {
      "cell_type": "code",
      "metadata": {
        "trusted": true,
        "id": "Uc_E-qbbQDBJ",
        "outputId": "749fd955-fdfe-480d-98cd-b6e8fa280cc2"
      },
      "source": [
        "lasso_cv_model.alpha_"
      ],
      "execution_count": null,
      "outputs": [
        {
          "output_type": "execute_result",
          "data": {
            "text/plain": [
              "0.0026847466799991312"
            ]
          },
          "metadata": {
            "tags": []
          },
          "execution_count": 675
        }
      ]
    },
    {
      "cell_type": "code",
      "metadata": {
        "trusted": true,
        "id": "SIaytepkQDBK",
        "outputId": "be3dc4eb-e614-4a83-f0a2-e555e1b87c27"
      },
      "source": [
        "lasso_tuned = Lasso().set_params(alpha= lasso_cv_model.alpha_).fit(X_train,y_train)\n",
        "y_pred = lasso_tuned.predict(X_test)\n",
        "np.sqrt(mean_squared_error(y_test,y_pred))"
      ],
      "execution_count": null,
      "outputs": [
        {
          "output_type": "execute_result",
          "data": {
            "text/plain": [
              "0.5394427335399019"
            ]
          },
          "metadata": {
            "tags": []
          },
          "execution_count": 676
        }
      ]
    },
    {
      "cell_type": "code",
      "metadata": {
        "trusted": true,
        "id": "ayI263bIQDBK"
      },
      "source": [
        "# Required Libraries\n",
        "import numpy as np\n",
        "import pandas as pd\n",
        "from sklearn.linear_model import Ridge,Lasso\n",
        "from sklearn.metrics import mean_squared_error,r2_score\n",
        "from sklearn.model_selection import train_test_split, cross_val_score\n",
        "from sklearn import model_selection\n",
        "from sklearn.linear_model import RidgeCV, LassoCV, ElasticNetCV"
      ],
      "execution_count": null,
      "outputs": []
    },
    {
      "cell_type": "code",
      "metadata": {
        "trusted": true,
        "id": "Dd-uuMRCQDBK"
      },
      "source": [
        "X = df.drop(\"score\",axis=1)\n",
        "y = df[\"score\"]\n",
        "X_train, X_test, y_train, y_test = train_test_split(X, y, test_size=0.33, random_state=42)\n",
        "\n",
        "model = data.fit(X_train,y_train)"
      ],
      "execution_count": null,
      "outputs": []
    },
    {
      "cell_type": "code",
      "metadata": {
        "trusted": true,
        "id": "2FgAIXIiQDBK",
        "outputId": "340d3389-5c11-4795-93d4-ff749f8b5854"
      },
      "source": [
        "model.coef_"
      ],
      "execution_count": null,
      "outputs": [
        {
          "output_type": "execute_result",
          "data": {
            "text/plain": [
              "array([0., 0., 0., 0., 0., 0.])"
            ]
          },
          "metadata": {
            "tags": []
          },
          "execution_count": 679
        }
      ]
    },
    {
      "cell_type": "code",
      "metadata": {
        "trusted": true,
        "id": "uASaMihEQDBK",
        "outputId": "9de4a4ba-ab03-4b5f-eef5-d3591468ae31"
      },
      "source": [
        "model.intercept_"
      ],
      "execution_count": null,
      "outputs": [
        {
          "output_type": "execute_result",
          "data": {
            "text/plain": [
              "5.346196172248804"
            ]
          },
          "metadata": {
            "tags": []
          },
          "execution_count": 680
        }
      ]
    },
    {
      "cell_type": "code",
      "metadata": {
        "trusted": true,
        "id": "6gqGPCPvQDBK",
        "outputId": "6a2b4ce1-954d-49a1-d1d7-dec7555149b8"
      },
      "source": [
        "# prediction\n",
        "model.predict(X_train)[0:10]"
      ],
      "execution_count": null,
      "outputs": [
        {
          "output_type": "execute_result",
          "data": {
            "text/plain": [
              "array([5.34619617, 5.34619617, 5.34619617, 5.34619617, 5.34619617,\n",
              "       5.34619617, 5.34619617, 5.34619617, 5.34619617, 5.34619617])"
            ]
          },
          "metadata": {
            "tags": []
          },
          "execution_count": 681
        }
      ]
    },
    {
      "cell_type": "code",
      "metadata": {
        "trusted": true,
        "id": "oXzADFU4QDBK",
        "outputId": "d988a631-11c3-493e-85a5-3c8522ab1a4e"
      },
      "source": [
        "model.predict(X_test)[0:10]"
      ],
      "execution_count": null,
      "outputs": [
        {
          "output_type": "execute_result",
          "data": {
            "text/plain": [
              "array([5.34619617, 5.34619617, 5.34619617, 5.34619617, 5.34619617,\n",
              "       5.34619617, 5.34619617, 5.34619617, 5.34619617, 5.34619617])"
            ]
          },
          "metadata": {
            "tags": []
          },
          "execution_count": 682
        }
      ]
    },
    {
      "cell_type": "code",
      "metadata": {
        "trusted": true,
        "id": "ZeK5zrewQDBK",
        "outputId": "44cea850-b1f1-4541-db46-d4af761dbe4c"
      },
      "source": [
        "y_pred = enet_model.predict(X_test)\n",
        "np.sqrt(mean_squared_error(y_test,y_pred))"
      ],
      "execution_count": null,
      "outputs": [
        {
          "output_type": "execute_result",
          "data": {
            "text/plain": [
              "1.108776315534746"
            ]
          },
          "metadata": {
            "tags": []
          },
          "execution_count": 683
        }
      ]
    }
  ]
}