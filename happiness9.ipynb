{
  "nbformat": 4,
  "nbformat_minor": 0,
  "metadata": {
    "kernelspec": {
      "name": "python3",
      "display_name": "Python 3",
      "language": "python"
    },
    "language_info": {
      "name": "python",
      "version": "3.6.6",
      "mimetype": "text/x-python",
      "codemirror_mode": {
        "name": "ipython",
        "version": 3
      },
      "pygments_lexer": "ipython3",
      "nbconvert_exporter": "python",
      "file_extension": ".py"
    },
    "colab": {
      "name": "happiness9.ipynb",
      "provenance": []
    }
  },
  "cells": [
    {
      "cell_type": "code",
      "metadata": {
        "_uuid": "8f2839f25d086af736a60e9eeb907d3b93b6e0e5",
        "_cell_guid": "b1076dfc-b9ad-4769-8c92-a6c4dae69d19",
        "trusted": true,
        "id": "Nho-sdtivKN9"
      },
      "source": [
        "\n",
        "import numpy as np # linear algebra\n",
        "import pandas as pd # data processing, CSV file I/O (e.g. pd.read_csv)\n",
        "import matplotlib.pyplot as plt\n",
        "import seaborn as sns\n",
        "import scipy.stats as stats\n",
        "import plotly.plotly as py # visualization library\n",
        "from plotly.offline import init_notebook_mode, iplot # plotly offline mode\n",
        "init_notebook_mode(connected=True) \n",
        "import plotly.graph_objs as go # plotly graphical object\n",
        "import warnings\n",
        "warnings.filterwarnings('ignore')\n",
        "%pylab inline\n",
        "\n",
        "\n",
        "import os\n",
        "print(os.listdir(\"../input\"))\n",
        "\n"
      ],
      "execution_count": null,
      "outputs": []
    },
    {
      "cell_type": "code",
      "metadata": {
        "_cell_guid": "79c7e3d0-c299-4dcb-8224-4455121ee9b0",
        "_uuid": "d629ff2d2480ee46fbb7e2d37f6b5fab8052498a",
        "trusted": true,
        "id": "7Vgm0_d0vKOA"
      },
      "source": [
        "data2019 = pd.read_csv(\"worlddata.csv\")\n",
        "test = pd.read_csv(\"testdata.csv\")\n"
      ],
      "execution_count": null,
      "outputs": []
    },
    {
      "cell_type": "code",
      "metadata": {
        "trusted": true,
        "_uuid": "364af05d9b4f38b5ac7985fa40805d8580044b4d",
        "id": "Ip1OTDeBvKOB",
        "outputId": "acf8581f-48f0-427c-ea71-b26a8eb3e3aa"
      },
      "source": [
        "#columns of training dataset\n",
        "data2015.columns"
      ],
      "execution_count": null,
      "outputs": [
        {
          "output_type": "execute_result",
          "data": {
            "text/plain": [
              "Index(['Country', 'Region', 'Happiness Rank', 'Happiness Score',\n",
              "       'Standard Error', 'Economy (GDP per Capita)', 'Family',\n",
              "       'Health (Life Expectancy)', 'Freedom', 'Trust (Government Corruption)',\n",
              "       'Generosity', 'Dystopia Residual'],\n",
              "      dtype='object')"
            ]
          },
          "metadata": {
            "tags": []
          },
          "execution_count": 5
        }
      ]
    },
    {
      "cell_type": "code",
      "metadata": {
        "trusted": true,
        "_uuid": "dc3efe314e99af9bcb7121da3d0805b8fcc2c114",
        "id": "_27lUKWavKOB",
        "outputId": "346d8acc-4f80-456c-fab6-4334667e0d51"
      },
      "source": [
        "data2015.shape"
      ],
      "execution_count": null,
      "outputs": [
        {
          "output_type": "execute_result",
          "data": {
            "text/plain": [
              "(158, 12)"
            ]
          },
          "metadata": {
            "tags": []
          },
          "execution_count": 6
        }
      ]
    },
    {
      "cell_type": "code",
      "metadata": {
        "trusted": true,
        "_uuid": "fce4fe1614724e3dc36b2a669c4288e83d5bf632",
        "id": "WqxszY7IvKOB",
        "outputId": "d8a3724c-3c34-48bf-ddcf-a210e71afa6f"
      },
      "source": [
        "#information about world dataset\n",
        "data2019.info()"
      ],
      "execution_count": null,
      "outputs": [
        {
          "output_type": "stream",
          "text": [
            "<class 'pandas.core.frame.DataFrame'>\n",
            "RangeIndex: 158 entries, 0 to 157\n",
            "Data columns (total 12 columns):\n",
            "Country                          158 non-null object\n",
            "Region                           158 non-null object\n",
            "Happiness Rank                   158 non-null int64\n",
            "Happiness Score                  158 non-null float64\n",
            "Standard Error                   158 non-null float64\n",
            "Economy (GDP per Capita)         158 non-null float64\n",
            "Family                           158 non-null float64\n",
            "Health (Life Expectancy)         158 non-null float64\n",
            "Freedom                          158 non-null float64\n",
            "Trust (Government Corruption)    158 non-null float64\n",
            "Generosity                       158 non-null float64\n",
            "Dystopia Residual                158 non-null float64\n",
            "dtypes: float64(9), int64(1), object(2)\n",
            "memory usage: 14.9+ KB\n"
          ],
          "name": "stdout"
        }
      ]
    },
    {
      "cell_type": "code",
      "metadata": {
        "trusted": true,
        "_uuid": "2680a45a835d1fabae1de6874500e6222e28efb1",
        "id": "puIak6livKOD"
      },
      "source": [
        "import sklearn"
      ],
      "execution_count": null,
      "outputs": []
    },
    {
      "cell_type": "code",
      "metadata": {
        "trusted": true,
        "_uuid": "65d6a2a5c697a92e21e5a68729421e3dc74b7cb5",
        "id": "6cnY5CKavKOD",
        "outputId": "89ccedc3-ae6d-4465-9965-d61a411c32bc"
      },
      "source": [
        "#Linear Regression\n",
        "from sklearn.linear_model import LinearRegression\n",
        "lin_reg = LinearRegression()\n",
        "x1 = data2019['Health'].values.reshape(-1,1)\n",
        "\n",
        "x2 = data2019['Freedom'].values.reshape(-1,1)\n",
        "x3 =  data2019['Social'].values.reshape(-1,1)\n",
        "\n",
        "y =  testdata['Happiness Score'].values.reshape(-1,1)\n",
        "\n",
        "from sklearn.model_selection import train_test_split\n",
        "x_train, x_test, y_train, y_test = train_test_split(x,y, test_size = 0.33, random_state=0)\n",
        "\n",
        "lin_reg.fit(x_train,y_train)\n",
        "y_pred = lin_reg.predict(x_test)\n",
        "plt.plot(x_test,y_pred)\n",
        "\n"
      ],
      "execution_count": null,
      "outputs": [
        {
          "output_type": "execute_result",
          "data": {
            "text/plain": [
              "[<matplotlib.lines.Line2D at 0x7f0469eafbe0>]"
            ]
          },
          "metadata": {
            "tags": []
          },
          "execution_count": 31
        },
        {
          "output_type": "display_data",
          "data": {
            "text/plain": [
              "<Figure size 432x288 with 1 Axes>"
            ],
            "image/png": "[encoded data removed]"
          },
          "metadata": {
            "tags": []
          }
        }
      ]
    },
    {
      "cell_type": "code",
      "metadata": {
        "trusted": true,
        "_uuid": "bf9ce86b36a38497b68b7800fb13328f575f398f",
        "id": "RFW7zpgCvKOD",
        "outputId": "00b4f02e-2732-4746-ad32-942966bf6919"
      },
      "source": [
        "b0 = lin_reg.intercept_\n",
        "b1 = lin_reg.coef_\n",
        "print('equation of the line is: ',b1,'x +',b0)"
      ],
      "execution_count": null,
      "outputs": [
        {
          "output_type": "stream",
          "text": [
            "equation of the line is:  [[2.4060534]] x + [3.38107425]\n"
          ],
          "name": "stdout"
        }
      ]
    },
    {
      "cell_type": "code",
      "metadata": {
        "trusted": true,
        "_uuid": "e3aba8f55141c7ff07c375ecd81ddfe0cee12aa6",
        "id": "l4G9XoKsvKOD",
        "outputId": "c57a6fa6-6298-4a5e-cc66-ff5c97868db0"
      },
      "source": [
        "xtest = pd.DataFrame(x_test)\n",
        "ypred = pd.DataFrame(y_pred)\n",
        "prediction = pd.concat([xtest,ypred],axis=1)\n",
        "prediction.columns = ['xtest','ypred']\n",
        "prediction.sort_values(by='xtest', ascending=False, axis = 0, inplace = True)\n",
        "prediction.head()\n",
        "\n",
        "\n"
      ],
      "execution_count": null,
      "outputs": [
        {
          "output_type": "execute_result",
          "data": {
            "text/plain": [
              "      xtest     ypred\n",
              "40  1.69042  7.448315\n",
              "32  1.56391  7.143925\n",
              "27  1.42727  6.815162\n",
              "47  1.38604  6.715961\n",
              "0   1.33171  6.585240"
            ],
            "text/html": [
              "<div>\n",
              "<style scoped>\n",
              "    .dataframe tbody tr th:only-of-type {\n",
              "        vertical-align: middle;\n",
              "    }\n",
              "\n",
              "    .dataframe tbody tr th {\n",
              "        vertical-align: top;\n",
              "    }\n",
              "\n",
              "    .dataframe thead th {\n",
              "        text-align: right;\n",
              "    }\n",
              "</style>\n",
              "<table border=\"1\" class=\"dataframe\">\n",
              "  <thead>\n",
              "    <tr style=\"text-align: right;\">\n",
              "      <th></th>\n",
              "      <th>xtest</th>\n",
              "      <th>ypred</th>\n",
              "    </tr>\n",
              "  </thead>\n",
              "  <tbody>\n",
              "    <tr>\n",
              "      <th>40</th>\n",
              "      <td>1.69042</td>\n",
              "      <td>7.448315</td>\n",
              "    </tr>\n",
              "    <tr>\n",
              "      <th>32</th>\n",
              "      <td>1.56391</td>\n",
              "      <td>7.143925</td>\n",
              "    </tr>\n",
              "    <tr>\n",
              "      <th>27</th>\n",
              "      <td>1.42727</td>\n",
              "      <td>6.815162</td>\n",
              "    </tr>\n",
              "    <tr>\n",
              "      <th>47</th>\n",
              "      <td>1.38604</td>\n",
              "      <td>6.715961</td>\n",
              "    </tr>\n",
              "    <tr>\n",
              "      <th>0</th>\n",
              "      <td>1.33171</td>\n",
              "      <td>6.585240</td>\n",
              "    </tr>\n",
              "  </tbody>\n",
              "</table>\n",
              "</div>"
            ]
          },
          "metadata": {
            "tags": []
          },
          "execution_count": 33
        }
      ]
    },
    {
      "cell_type": "code",
      "metadata": {
        "trusted": true,
        "_uuid": "49dda1fa343871e08cfd5dfb5ec1ff101c5954e7",
        "id": "zjUJFQO1vKOD",
        "outputId": "e641eca1-204e-4760-9df1-cd42871800d5"
      },
      "source": [
        "xtest = pd.DataFrame(x_test)\n",
        "ytest = pd.DataFrame(y_test)\n",
        "test = pd.concat([xtest,ytest],axis=1)\n",
        "test.columns = ['xtest','ytest']\n",
        "test.sort_values(by='xtest', ascending=False, axis = 0, inplace = True)\n",
        "test.head()"
      ],
      "execution_count": null,
      "outputs": [
        {
          "output_type": "execute_result",
          "data": {
            "text/plain": [
              "      xtest  ytest\n",
              "40  1.69042  6.611\n",
              "32  1.56391  6.946\n",
              "27  1.42727  6.901\n",
              "47  1.38604  5.474\n",
              "0   1.33171  7.364"
            ],
            "text/html": [
              "<div>\n",
              "<style scoped>\n",
              "    .dataframe tbody tr th:only-of-type {\n",
              "        vertical-align: middle;\n",
              "    }\n",
              "\n",
              "    .dataframe tbody tr th {\n",
              "        vertical-align: top;\n",
              "    }\n",
              "\n",
              "    .dataframe thead th {\n",
              "        text-align: right;\n",
              "    }\n",
              "</style>\n",
              "<table border=\"1\" class=\"dataframe\">\n",
              "  <thead>\n",
              "    <tr style=\"text-align: right;\">\n",
              "      <th></th>\n",
              "      <th>xtest</th>\n",
              "      <th>ytest</th>\n",
              "    </tr>\n",
              "  </thead>\n",
              "  <tbody>\n",
              "    <tr>\n",
              "      <th>40</th>\n",
              "      <td>1.69042</td>\n",
              "      <td>6.611</td>\n",
              "    </tr>\n",
              "    <tr>\n",
              "      <th>32</th>\n",
              "      <td>1.56391</td>\n",
              "      <td>6.946</td>\n",
              "    </tr>\n",
              "    <tr>\n",
              "      <th>27</th>\n",
              "      <td>1.42727</td>\n",
              "      <td>6.901</td>\n",
              "    </tr>\n",
              "    <tr>\n",
              "      <th>47</th>\n",
              "      <td>1.38604</td>\n",
              "      <td>5.474</td>\n",
              "    </tr>\n",
              "    <tr>\n",
              "      <th>0</th>\n",
              "      <td>1.33171</td>\n",
              "      <td>7.364</td>\n",
              "    </tr>\n",
              "  </tbody>\n",
              "</table>\n",
              "</div>"
            ]
          },
          "metadata": {
            "tags": []
          },
          "execution_count": 34
        }
      ]
    },
    {
      "cell_type": "code",
      "metadata": {
        "trusted": true,
        "_uuid": "c6fec0b3a56fc0317b3e058fa9e7dee093242473",
        "id": "QbXfy0LAvKOE"
      },
      "source": [
        "#Multiple linear regression\n",
        "x1 = data2015[['Health (Life Expectancy)','Family','Freedom']].values\n",
        "y1 = data2015['Happiness Score'].values.reshape(-1,1)\n",
        "from sklearn.model_selection import train_test_split\n",
        "x1_train, x1_test, y1_train, y1_test = train_test_split(x1,y1, test_size = 0.33, random_state=0)\n",
        "mlp = LinearRegression()\n",
        "mlp.fit(x1_train,y1_train)\n",
        "y1_predict = pd.DataFrame(mlp.predict(x1_test))\n",
        "y1_test = pd.DataFrame(y1_test)\n",
        "\n"
      ],
      "execution_count": null,
      "outputs": []
    },
    {
      "cell_type": "code",
      "metadata": {
        "trusted": true,
        "_uuid": "d932284de1a39996a31811f00504003edd4a4bf2",
        "id": "2Tg1ZjH8vKOE",
        "outputId": "88899f04-772c-4aed-83b5-95dcd1587c92"
      },
      "source": [
        "#comparing of university students testdata and prediction from world data set\n",
        "\n",
        "comp  = pd.concat([y1_predict,y1_test],axis=1)\n",
        "comp.columns = ['y1_predict','y1_test']\n",
        "comp.sort_values(by='y1_test', ascending=False, axis = 0, inplace = True)\n",
        "comp.sample(10)"
      ],
      "execution_count": null,
      "outputs": [
        {
          "output_type": "execute_result",
          "data": {
            "text/plain": [
              "    y1_predict  y1_test\n",
              "43    5.459298    5.124\n",
              "16    4.506742    4.297\n",
              "21    6.214276    6.455\n",
              "10    6.257283    6.786\n",
              "25    6.163405    6.298\n",
              "28    4.852261    3.819\n",
              "2     4.391026    4.633\n",
              "36    3.942098    4.971\n",
              "45    5.907276    5.754\n",
              "26    5.310499    4.857"
            ],
            "text/html": [
              "<div>\n",
              "<style scoped>\n",
              "    .dataframe tbody tr th:only-of-type {\n",
              "        vertical-align: middle;\n",
              "    }\n",
              "\n",
              "    .dataframe tbody tr th {\n",
              "        vertical-align: top;\n",
              "    }\n",
              "\n",
              "    .dataframe thead th {\n",
              "        text-align: right;\n",
              "    }\n",
              "</style>\n",
              "<table border=\"1\" class=\"dataframe\">\n",
              "  <thead>\n",
              "    <tr style=\"text-align: right;\">\n",
              "      <th></th>\n",
              "      <th>y1_predict</th>\n",
              "      <th>y1_test</th>\n",
              "    </tr>\n",
              "  </thead>\n",
              "  <tbody>\n",
              "    <tr>\n",
              "      <th>43</th>\n",
              "      <td>5.459298</td>\n",
              "      <td>5.124</td>\n",
              "    </tr>\n",
              "    <tr>\n",
              "      <th>16</th>\n",
              "      <td>4.506742</td>\n",
              "      <td>4.297</td>\n",
              "    </tr>\n",
              "    <tr>\n",
              "      <th>21</th>\n",
              "      <td>6.214276</td>\n",
              "      <td>6.455</td>\n",
              "    </tr>\n",
              "    <tr>\n",
              "      <th>10</th>\n",
              "      <td>6.257283</td>\n",
              "      <td>6.786</td>\n",
              "    </tr>\n",
              "    <tr>\n",
              "      <th>25</th>\n",
              "      <td>6.163405</td>\n",
              "      <td>6.298</td>\n",
              "    </tr>\n",
              "    <tr>\n",
              "      <th>28</th>\n",
              "      <td>4.852261</td>\n",
              "      <td>3.819</td>\n",
              "    </tr>\n",
              "    <tr>\n",
              "      <th>2</th>\n",
              "      <td>4.391026</td>\n",
              "      <td>4.633</td>\n",
              "    </tr>\n",
              "    <tr>\n",
              "      <th>36</th>\n",
              "      <td>3.942098</td>\n",
              "      <td>4.971</td>\n",
              "    </tr>\n",
              "    <tr>\n",
              "      <th>45</th>\n",
              "      <td>5.907276</td>\n",
              "      <td>5.754</td>\n",
              "    </tr>\n",
              "    <tr>\n",
              "      <th>26</th>\n",
              "      <td>5.310499</td>\n",
              "      <td>4.857</td>\n",
              "    </tr>\n",
              "  </tbody>\n",
              "</table>\n",
              "</div>"
            ]
          },
          "metadata": {
            "tags": []
          },
          "execution_count": 37
        }
      ]
    }
  ]
}