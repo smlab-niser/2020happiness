{
  "nbformat": 4,
  "nbformat_minor": 0,
  "metadata": {
    "kernelspec": {
      "name": "python3",
      "display_name": "Python 3",
      "language": "python"
    },
    "language_info": {
      "name": "python",
      "version": "3.6.6",
      "mimetype": "text/x-python",
      "codemirror_mode": {
        "name": "ipython",
        "version": 3
      },
      "pygments_lexer": "ipython3",
      "nbconvert_exporter": "python",
      "file_extension": ".py"
    },
    "colab": {
      "name": "happiness4.ipynb",
      "provenance": []
    }
  },
  "cells": [
    {
      "cell_type": "code",
      "metadata": {
        "_uuid": "8f2839f25d086af736a60e9eeb907d3b93b6e0e5",
        "_cell_guid": "b1076dfc-b9ad-4769-8c92-a6c4dae69d19",
        "trusted": true,
        "id": "4tn6y2-A3g8x"
      },
      "source": [
        "\n",
        "import numpy as np\n",
        "import pandas as pd\n",
        "import seaborn as sns\n",
        "import matplotlib.pyplot as plt\n",
        "%matplotlib inline\n",
        "import scipy\n",
        "\n",
        "import warnings\n",
        "warnings.filterwarnings(\"ignore\")\n",
        "\n",
        "data= pd.read_csv(\"worlddata.csv\")\n",
        "test  = pd.read_csv(\"test.csv\")\n",
        "\n"
      ],
      "execution_count": null,
      "outputs": []
    },
    {
      "cell_type": "markdown",
      "metadata": {
        "id": "0D1Yuo9w3g82"
      },
      "source": [
        "\n",
        "\n",
        "## Statistics Summary from training dataset"
      ]
    },
    {
      "cell_type": "code",
      "metadata": {
        "trusted": true,
        "id": "_oixt5tA3g82",
        "outputId": "926e86a4-10da-467a-a30e-cb44433955d3"
      },
      "source": [
        "data.groupby(by='Year')['Score'].describe()"
      ],
      "execution_count": null,
      "outputs": [
        {
          "output_type": "execute_result",
          "data": {
            "text/plain": [
              "      count      mean       std    min     25%     50%      75%    max\n",
              "Year                                                                  \n",
              "2015  158.0  5.375734  1.145010  2.839  4.5260  5.2325  6.24375  7.587\n",
              "2016  157.0  5.382185  1.141674  2.905  4.4040  5.3140  6.26900  7.526\n",
              "2017  155.0  5.354019  1.131230  2.693  4.5055  5.2790  6.10150  7.537\n",
              "2018  155.0  5.366897  1.117433  2.905  4.4515  5.3580  6.15400  7.632\n",
              "2019  156.0  5.407096  1.113120  2.853  4.5445  5.3795  6.18450  7.769"
            ],
            "text/html": [
              "<div>\n",
              "<style scoped>\n",
              "    .dataframe tbody tr th:only-of-type {\n",
              "        vertical-align: middle;\n",
              "    }\n",
              "\n",
              "    .dataframe tbody tr th {\n",
              "        vertical-align: top;\n",
              "    }\n",
              "\n",
              "    .dataframe thead th {\n",
              "        text-align: right;\n",
              "    }\n",
              "</style>\n",
              "<table border=\"1\" class=\"dataframe\">\n",
              "  <thead>\n",
              "    <tr style=\"text-align: right;\">\n",
              "      <th></th>\n",
              "      <th>count</th>\n",
              "      <th>mean</th>\n",
              "      <th>std</th>\n",
              "      <th>min</th>\n",
              "      <th>25%</th>\n",
              "      <th>50%</th>\n",
              "      <th>75%</th>\n",
              "      <th>max</th>\n",
              "    </tr>\n",
              "    <tr>\n",
              "      <th>Year</th>\n",
              "      <th></th>\n",
              "      <th></th>\n",
              "      <th></th>\n",
              "      <th></th>\n",
              "      <th></th>\n",
              "      <th></th>\n",
              "      <th></th>\n",
              "      <th></th>\n",
              "    </tr>\n",
              "  </thead>\n",
              "  <tbody>\n",
              "    <tr>\n",
              "      <th>2015</th>\n",
              "      <td>158.0</td>\n",
              "      <td>5.375734</td>\n",
              "      <td>1.145010</td>\n",
              "      <td>2.839</td>\n",
              "      <td>4.5260</td>\n",
              "      <td>5.2325</td>\n",
              "      <td>6.24375</td>\n",
              "      <td>7.587</td>\n",
              "    </tr>\n",
              "    <tr>\n",
              "      <th>2016</th>\n",
              "      <td>157.0</td>\n",
              "      <td>5.382185</td>\n",
              "      <td>1.141674</td>\n",
              "      <td>2.905</td>\n",
              "      <td>4.4040</td>\n",
              "      <td>5.3140</td>\n",
              "      <td>6.26900</td>\n",
              "      <td>7.526</td>\n",
              "    </tr>\n",
              "    <tr>\n",
              "      <th>2017</th>\n",
              "      <td>155.0</td>\n",
              "      <td>5.354019</td>\n",
              "      <td>1.131230</td>\n",
              "      <td>2.693</td>\n",
              "      <td>4.5055</td>\n",
              "      <td>5.2790</td>\n",
              "      <td>6.10150</td>\n",
              "      <td>7.537</td>\n",
              "    </tr>\n",
              "    <tr>\n",
              "      <th>2018</th>\n",
              "      <td>155.0</td>\n",
              "      <td>5.366897</td>\n",
              "      <td>1.117433</td>\n",
              "      <td>2.905</td>\n",
              "      <td>4.4515</td>\n",
              "      <td>5.3580</td>\n",
              "      <td>6.15400</td>\n",
              "      <td>7.632</td>\n",
              "    </tr>\n",
              "    <tr>\n",
              "      <th>2019</th>\n",
              "      <td>156.0</td>\n",
              "      <td>5.407096</td>\n",
              "      <td>1.113120</td>\n",
              "      <td>2.853</td>\n",
              "      <td>4.5445</td>\n",
              "      <td>5.3795</td>\n",
              "      <td>6.18450</td>\n",
              "      <td>7.769</td>\n",
              "    </tr>\n",
              "  </tbody>\n",
              "</table>\n",
              "</div>"
            ]
          },
          "metadata": {
            "tags": []
          },
          "execution_count": 102
        }
      ]
    },
    {
      "cell_type": "code",
      "metadata": {
        "trusted": true,
        "id": "QLJPSM4h3g83",
        "outputId": "b708c41c-0a8b-4ae2-f76b-88d0da2da25f"
      },
      "source": [
        "# Group the training dataset by year and average the factors\n",
        "grouped = data.groupby(by = 'Year')[['Score', 'GDP per capita',\n",
        "       'Social support', 'Healthy life expectancy',\n",
        "       'Freedom to make life choices', 'Generosity',\n",
        "       'Perceptions of corruption']].mean().reset_index()\n",
        "\n",
        "\n",
        "grouped.head()"
      ],
      "execution_count": null,
      "outputs": [
        {
          "output_type": "execute_result",
          "data": {
            "text/plain": [
              "   Year Factor  Avg_value\n",
              "0  2015  Score   5.375734\n",
              "1  2016  Score   5.382185\n",
              "2  2017  Score   5.354019\n",
              "3  2018  Score   5.366897\n",
              "4  2019  Score   5.407096"
            ],
            "text/html": [
              "<div>\n",
              "<style scoped>\n",
              "    .dataframe tbody tr th:only-of-type {\n",
              "        vertical-align: middle;\n",
              "    }\n",
              "\n",
              "    .dataframe tbody tr th {\n",
              "        vertical-align: top;\n",
              "    }\n",
              "\n",
              "    .dataframe thead th {\n",
              "        text-align: right;\n",
              "    }\n",
              "</style>\n",
              "<table border=\"1\" class=\"dataframe\">\n",
              "  <thead>\n",
              "    <tr style=\"text-align: right;\">\n",
              "      <th></th>\n",
              "      <th>Year</th>\n",
              "      <th>Factor</th>\n",
              "      <th>Avg_value</th>\n",
              "    </tr>\n",
              "  </thead>\n",
              "  <tbody>\n",
              "    <tr>\n",
              "      <th>0</th>\n",
              "      <td>2015</td>\n",
              "      <td>Score</td>\n",
              "      <td>5.375734</td>\n",
              "    </tr>\n",
              "    <tr>\n",
              "      <th>1</th>\n",
              "      <td>2016</td>\n",
              "      <td>Score</td>\n",
              "      <td>5.382185</td>\n",
              "    </tr>\n",
              "    <tr>\n",
              "      <th>2</th>\n",
              "      <td>2017</td>\n",
              "      <td>Score</td>\n",
              "      <td>5.354019</td>\n",
              "    </tr>\n",
              "    <tr>\n",
              "      <th>3</th>\n",
              "      <td>2018</td>\n",
              "      <td>Score</td>\n",
              "      <td>5.366897</td>\n",
              "    </tr>\n",
              "    <tr>\n",
              "      <th>4</th>\n",
              "      <td>2019</td>\n",
              "      <td>Score</td>\n",
              "      <td>5.407096</td>\n",
              "    </tr>\n",
              "  </tbody>\n",
              "</table>\n",
              "</div>"
            ]
          },
          "metadata": {
            "tags": []
          },
          "execution_count": 103
        }
      ]
    },
    {
      "cell_type": "code",
      "metadata": {
        "trusted": true,
        "id": "n5b1JFqW3g84",
        "outputId": "c647ad9f-2ddf-4a8e-84b2-87ce0bf8b1bc"
      },
      "source": [
        "# Distribution for Happiness Score using test dataset\n",
        "plt.figure(figsize = (16, 9))\n",
        "\n",
        "sns.distplot(a = country_score_avg['Score'], bins = 20, kde = True, color = \"#A9FF7A\")\n",
        "plt.xlabel('Happiness Score', fontsize = 20)\n",
        "plt.title('Distribution of Average Happiness Score of University Students -', fontsize = 25)\n",
        "plt.xticks(fontsize = 15)\n",
        "plt.yticks(fontsize = 15)\n",
        "plt.xlim((1.5, 8.9));"
      ],
      "execution_count": null,
      "outputs": [
        {
          "output_type": "display_data",
          "data": {
            "text/plain": [
              "<Figure size 1152x648 with 1 Axes>"
            ],
            "image/png": "[encoded data removed]"
          },
          "metadata": {
            "tags": []
          }
        }
      ]
    },
    {
      "cell_type": "code",
      "metadata": {
        "trusted": true,
        "id": "QJ2lpaLd3g85",
        "outputId": "46140011-1a04-43d4-9ab0-e9374f652d22"
      },
      "source": [
        "# Calculating the Pearson Correlation\n",
        "\n",
        "c1 = scipy.stats.pearsonr(data['Score'], data['GDP per capita'])\n",
        "c2 = scipy.stats.pearsonr(data['Score'], data['Social support'])\n",
        "c3 = scipy.stats.pearsonr(data['Score'], data['Healthy life expectancy'])\n",
        "c4 = scipy.stats.pearsonr(data['Score'], data['Freedom to make life choices'])\n",
        "c5 = scipy.stats.pearsonr(data['Score'], data['Generosity'])\n",
        "c6 = scipy.stats.pearsonr(data['Score'], data['Perceptions of corruption'])\n",
        "\n",
        "print('Happiness Score + GDP: pearson = ', round(c1[0],2), '   pvalue = ', round(c1[1],4))\n",
        "print('Happiness Score + Family: pearson = ', round(c2[0],2), '   pvalue = ', round(c2[1],4))\n",
        "print('Happiness Score + Health: pearson = ', round(c3[0],2), '   pvalue = ', round(c3[1],4))\n",
        "print('Happiness Score + Freedom: pearson = ', round(c4[0],2), '   pvalue = ', round(c4[1],4))\n",
        "print('Happiness Score + Generosity: pearson = ', round(c5[0],2), '   pvalue = ', round(c5[1],4))\n",
        "print('Happiness Score + Trust: pearson = ', round(c6[0],2), '   pvalue = ', round(c6[1],4))"
      ],
      "execution_count": null,
      "outputs": [
        {
          "output_type": "stream",
          "text": [
            "Happiness Score + GDP: pearson =  0.79    pvalue =  0.0\n",
            "Happiness Score + Family: pearson =  0.65    pvalue =  0.0\n",
            "Happiness Score + Health: pearson =  0.74    pvalue =  0.0\n",
            "Happiness Score + Freedom: pearson =  0.55    pvalue =  0.0\n",
            "Happiness Score + Generosity: pearson =  0.14    pvalue =  0.0001\n",
            "Happiness Score + Trust: pearson =  0.4    pvalue =  0.0\n"
          ],
          "name": "stdout"
        }
      ]
    }
  ]
}