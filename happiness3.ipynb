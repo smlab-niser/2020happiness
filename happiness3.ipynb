{
  "nbformat": 4,
  "nbformat_minor": 0,
  "metadata": {
    "kernelspec": {
      "name": "python3",
      "display_name": "Python 3",
      "language": "python"
    },
    "language_info": {
      "name": "python",
      "version": "3.6.4",
      "mimetype": "text/x-python",
      "codemirror_mode": {
        "name": "ipython",
        "version": 3
      },
      "pygments_lexer": "ipython3",
      "nbconvert_exporter": "python",
      "file_extension": ".py"
    },
    "colab": {
      "name": "happiness3.ipynb",
      "provenance": []
    }
  },
  "cells": [
    {
      "cell_type": "code",
      "metadata": {
        "_cell_guid": "b1076dfc-b9ad-4769-8c92-a6c4dae69d19",
        "_uuid": "8f2839f25d086af736a60e9eeb907d3b93b6e0e5",
        "trusted": true,
        "id": "wsyBG7larl7-"
      },
      "source": [
        "import numpy as np \n",
        "import pandas as pd \n",
        "import os\n",
        "print(os.listdir(\"../input\"))\n",
        "import statsmodels.formula.api as stats\n",
        "from statsmodels.formula.api import ols\n",
        "import sklearn\n",
        "from sklearn import linear_model, datasets\n",
        "from sklearn.metrics import mean_squared_error\n",
        "import plotly.plotly as py \n",
        "import plotly.graph_objs as go\n",
        "from plotly.offline import download_plotlyjs, init_notebook_mode, plot, iplot\n",
        "init_notebook_mode(connected=True)"
      ],
      "execution_count": null,
      "outputs": []
    },
    {
      "cell_type": "code",
      "metadata": {
        "_cell_guid": "79c7e3d0-c299-4dcb-8224-4455121ee9b0",
        "_uuid": "d629ff2d2480ee46fbb7e2d37f6b5fab8052498a",
        "trusted": true,
        "id": "gPWq1IkFrl8B"
      },
      "source": [
        "data = pd.read_csv(\"worlddata.csv\")\n",
        "test = pd.read_csv(\"testadata.csv\")"
      ],
      "execution_count": null,
      "outputs": []
    },
    {
      "cell_type": "code",
      "metadata": {
        "_cell_guid": "65961c36-09ff-496b-8847-7c066f1a3827",
        "_uuid": "fba51ccc43d36d7a59da43c34b2fcc8985a489d0",
        "trusted": true,
        "id": "d3NM2pmsrl8B"
      },
      "source": [
        "columns_2019 = ['Happiness score', 'Standard Error']\n",
        "new_dropped_2019 = happiness_2019.drop(columns_2019, axis=1)"
      ],
      "execution_count": null,
      "outputs": []
    },
    {
      "cell_type": "code",
      "metadata": {
        "_cell_guid": "c89048a2-f15d-43ce-ae1e-661ec97f26a7",
        "_uuid": "5a34dacf4a0751f1458870c380bca7ced9965257",
        "trusted": true,
        "id": "2rtIlO3mrl8B"
      },
      "source": [
        "frames = [new_dropped_2019]\n",
        "happiness = pd.concat(frames)"
      ],
      "execution_count": null,
      "outputs": []
    },
    {
      "cell_type": "code",
      "metadata": {
        "_cell_guid": "b44c5695-b94c-40eb-baa2-09475e24b44a",
        "_uuid": "f80166d17a84db6bb6a69906712f2149bbcc058c",
        "trusted": true,
        "id": "Gq-QDbPyrl8C"
      },
      "source": [
        "drop_rank = happiness.drop(\"Happiness_Rank\", axis = 1)"
      ],
      "execution_count": null,
      "outputs": []
    },
    {
      "cell_type": "code",
      "metadata": {
        "trusted": true,
        "_uuid": "f1b07309917ae705651f2ec32f9f3a8eb31d58e6",
        "id": "sJmVwHyorl8C",
        "outputId": "ee70c1bf-6192-4dc0-85fd-e76433b1a6d7"
      },
      "source": [
        "dropped_happy = happiness.drop([\"Department\", \"Happiness_Rank\"], axis=1)\n",
        "dropped_happy.head()"
      ],
      "execution_count": null,
      "outputs": [
        {
          "output_type": "execute_result",
          "data": {
            "text/plain": [
              "   Happiness_Score  Economy   Family   Health  Freedom    Trust  Generosity  \\\n",
              "0            7.587  1.39651  1.34951  0.94143  0.66557  0.41978     0.29678   \n",
              "1            7.561  1.30232  1.40223  0.94784  0.62877  0.14145     0.43630   \n",
              "2            7.527  1.32548  1.36058  0.87464  0.64938  0.48357     0.34139   \n",
              "3            7.522  1.45900  1.33095  0.88521  0.66973  0.36503     0.34699   \n",
              "4            7.427  1.32629  1.32261  0.90563  0.63297  0.32957     0.45811   \n",
              "\n",
              "   Dystopia_Residual  \n",
              "0            2.51738  \n",
              "1            2.70201  \n",
              "2            2.49204  \n",
              "3            2.46531  \n",
              "4            2.45176  "
            ],
            "text/html": [
              "<div>\n",
              "<style scoped>\n",
              "    .dataframe tbody tr th:only-of-type {\n",
              "        vertical-align: middle;\n",
              "    }\n",
              "\n",
              "    .dataframe tbody tr th {\n",
              "        vertical-align: top;\n",
              "    }\n",
              "\n",
              "    .dataframe thead th {\n",
              "        text-align: right;\n",
              "    }\n",
              "</style>\n",
              "<table border=\"1\" class=\"dataframe\">\n",
              "  <thead>\n",
              "    <tr style=\"text-align: right;\">\n",
              "      <th></th>\n",
              "      <th>Happiness_Score</th>\n",
              "      <th>Economy</th>\n",
              "      <th>Family</th>\n",
              "      <th>Health</th>\n",
              "      <th>Freedom</th>\n",
              "      <th>Trust</th>\n",
              "      <th>Generosity</th>\n",
              "      <th>Dystopia_Residual</th>\n",
              "    </tr>\n",
              "  </thead>\n",
              "  <tbody>\n",
              "    <tr>\n",
              "      <th>0</th>\n",
              "      <td>7.587</td>\n",
              "      <td>1.39651</td>\n",
              "      <td>1.34951</td>\n",
              "      <td>0.94143</td>\n",
              "      <td>0.66557</td>\n",
              "      <td>0.41978</td>\n",
              "      <td>0.29678</td>\n",
              "      <td>2.51738</td>\n",
              "    </tr>\n",
              "    <tr>\n",
              "      <th>1</th>\n",
              "      <td>7.561</td>\n",
              "      <td>1.30232</td>\n",
              "      <td>1.40223</td>\n",
              "      <td>0.94784</td>\n",
              "      <td>0.62877</td>\n",
              "      <td>0.14145</td>\n",
              "      <td>0.43630</td>\n",
              "      <td>2.70201</td>\n",
              "    </tr>\n",
              "    <tr>\n",
              "      <th>2</th>\n",
              "      <td>7.527</td>\n",
              "      <td>1.32548</td>\n",
              "      <td>1.36058</td>\n",
              "      <td>0.87464</td>\n",
              "      <td>0.64938</td>\n",
              "      <td>0.48357</td>\n",
              "      <td>0.34139</td>\n",
              "      <td>2.49204</td>\n",
              "    </tr>\n",
              "    <tr>\n",
              "      <th>3</th>\n",
              "      <td>7.522</td>\n",
              "      <td>1.45900</td>\n",
              "      <td>1.33095</td>\n",
              "      <td>0.88521</td>\n",
              "      <td>0.66973</td>\n",
              "      <td>0.36503</td>\n",
              "      <td>0.34699</td>\n",
              "      <td>2.46531</td>\n",
              "    </tr>\n",
              "    <tr>\n",
              "      <th>4</th>\n",
              "      <td>7.427</td>\n",
              "      <td>1.32629</td>\n",
              "      <td>1.32261</td>\n",
              "      <td>0.90563</td>\n",
              "      <td>0.63297</td>\n",
              "      <td>0.32957</td>\n",
              "      <td>0.45811</td>\n",
              "      <td>2.45176</td>\n",
              "    </tr>\n",
              "  </tbody>\n",
              "</table>\n",
              "</div>"
            ]
          },
          "metadata": {
            "tags": []
          },
          "execution_count": 37
        }
      ]
    },
    {
      "cell_type": "code",
      "metadata": {
        "_cell_guid": "8f6c3f07-d674-43e7-af31-0d68f1ef8f65",
        "_uuid": "1c2aab0b8b0424c47fcf56767151a9f7b10a0651",
        "scrolled": true,
        "trusted": true,
        "id": "rcPOk0U3rl8D",
        "outputId": "50aa0045-14f8-4917-bac1-b3677c2ee9c6"
      },
      "source": [
        "\n",
        "from sklearn.linear_model import LinearRegression\n",
        "X = dropped_happy.drop(\"Happiness_Score\", axis = 1)\n",
        "lm = LinearRegression()\n",
        "lm.fit(X, dropped_happy.Happiness_Score)"
      ],
      "execution_count": null,
      "outputs": [
        {
          "output_type": "execute_result",
          "data": {
            "text/plain": [
              "LinearRegression(copy_X=True, fit_intercept=True, n_jobs=1, normalize=False)"
            ]
          },
          "metadata": {
            "tags": []
          },
          "execution_count": 38
        }
      ]
    },
    {
      "cell_type": "code",
      "metadata": {
        "_cell_guid": "44eebbc1-f24f-4910-ae60-96e2efda8a18",
        "_uuid": "ce172ff672fcc6502acba8cb9fd93b204b77b59a",
        "trusted": true,
        "id": "PKgeoT9Frl8D",
        "outputId": "9c5f8f52-ef21-491a-8b4b-671563763fec"
      },
      "source": [
        "print(\"Estimated Intercept is\", lm.intercept_)"
      ],
      "execution_count": null,
      "outputs": [
        {
          "output_type": "stream",
          "text": [
            "Estimated Intercept is 0.00012896230083647708\n"
          ],
          "name": "stdout"
        }
      ]
    },
    {
      "cell_type": "code",
      "metadata": {
        "_cell_guid": "d2e6af0b-3b29-4ade-877b-4c69ccd7a9b7",
        "_uuid": "50c4068c3e45bff505ff9cbe29a15e586e9d119e",
        "trusted": true,
        "id": "nkDCePrcrl8D",
        "outputId": "f1e42fca-8688-4e8e-902e-c6cf51eb0edb"
      },
      "source": [
        "print(\"The number of coefficients in this Happiness model are\", lm.coef_)"
      ],
      "execution_count": null,
      "outputs": [
        {
          "output_type": "stream",
          "text": [
            "The number of coefficients in this model are [1.00004071 1.00000537 0.99986919 0.99991212 1.00001962 1.00000574\n",
            " 0.99997241]\n"
          ],
          "name": "stdout"
        }
      ]
    },
    {
      "cell_type": "code",
      "metadata": {
        "_cell_guid": "ceb7406d-9cd0-40a2-9061-cd22b11d2d2d",
        "_uuid": "5573e9f3f72055057c2e1df5675c6c5aa64647fa",
        "trusted": true,
        "id": "-6Ww_S8krl8D",
        "outputId": "b93c4e7f-aeec-4aa5-e165-0748e21a28b3"
      },
      "source": [
        "coef = zip(X.columns, lm.coef_)\n",
        "coef_df = pd.DataFrame(list(zip(X.columns, lm.coef_)), columns=['features', 'coefficients'])\n",
        "coef_df"
      ],
      "execution_count": null,
      "outputs": [
        {
          "output_type": "execute_result",
          "data": {
            "text/plain": [
              "            features  coefficients\n",
              "0            Economy      1.000041\n",
              "1             Family      1.000005\n",
              "2             Health      0.999869\n",
              "3            Freedom      0.999912\n",
              "4              Trust      1.000020\n",
              "5         Generosity      1.000006\n",
              "6  Dystopia_Residual      0.999972"
            ],
            "text/html": [
              "<div>\n",
              "<style scoped>\n",
              "    .dataframe tbody tr th:only-of-type {\n",
              "        vertical-align: middle;\n",
              "    }\n",
              "\n",
              "    .dataframe tbody tr th {\n",
              "        vertical-align: top;\n",
              "    }\n",
              "\n",
              "    .dataframe thead th {\n",
              "        text-align: right;\n",
              "    }\n",
              "</style>\n",
              "<table border=\"1\" class=\"dataframe\">\n",
              "  <thead>\n",
              "    <tr style=\"text-align: right;\">\n",
              "      <th></th>\n",
              "      <th>features</th>\n",
              "      <th>coefficients</th>\n",
              "    </tr>\n",
              "  </thead>\n",
              "  <tbody>\n",
              "    <tr>\n",
              "      <th>0</th>\n",
              "      <td>Economy</td>\n",
              "      <td>1.000041</td>\n",
              "    </tr>\n",
              "    <tr>\n",
              "      <th>1</th>\n",
              "      <td>Family</td>\n",
              "      <td>1.000005</td>\n",
              "    </tr>\n",
              "    <tr>\n",
              "      <th>2</th>\n",
              "      <td>Health</td>\n",
              "      <td>0.999869</td>\n",
              "    </tr>\n",
              "    <tr>\n",
              "      <th>3</th>\n",
              "      <td>Freedom</td>\n",
              "      <td>0.999912</td>\n",
              "    </tr>\n",
              "    <tr>\n",
              "      <th>4</th>\n",
              "      <td>Trust</td>\n",
              "      <td>1.000020</td>\n",
              "    </tr>\n",
              "    <tr>\n",
              "      <th>5</th>\n",
              "      <td>Generosity</td>\n",
              "      <td>1.000006</td>\n",
              "    </tr>\n",
              "    <tr>\n",
              "      <th>6</th>\n",
              "      <td>Dystopia_Residual</td>\n",
              "      <td>0.999972</td>\n",
              "    </tr>\n",
              "  </tbody>\n",
              "</table>\n",
              "</div>"
            ]
          },
          "metadata": {
            "tags": []
          },
          "execution_count": 41
        }
      ]
    },
    {
      "cell_type": "code",
      "metadata": {
        "_cell_guid": "d2a235a5-2978-499e-b733-2218ec71ae39",
        "_uuid": "51c44629b74e2ba847ddea95fa34d89da41e598b",
        "trusted": true,
        "id": "H6iuFzDjrl8D",
        "outputId": "21a6112f-9ee1-49ca-a875-1cc0276185be"
      },
      "source": [
        "lm.predict(X)[0:100]"
      ],
      "execution_count": null,
      "outputs": [
        {
          "output_type": "execute_result",
          "data": {
            "text/plain": [
              "array([7.58691191, 7.560861  , 7.52704145, 7.522182  , 7.42689742,\n",
              "       7.40604306, 7.37811   , 7.36365823, 7.28604061, 7.28401816,\n",
              "       7.27761792, 7.22569218, 7.1998147 , 7.18723216, 7.11947789,\n",
              "       6.98253559, 6.94621954, 6.94025306, 6.93734953, 6.90135796,\n",
              "       6.86723098, 6.8529541 , 6.81017073, 6.79776404, 6.78621149,\n",
              "       6.75014685, 6.6696396 , 6.61131216, 6.57505944, 6.57402014,\n",
              "       6.50503944, 6.48514157, 6.47675891, 6.45466954, 6.41109998,\n",
              "       6.32891442, 6.30244615, 6.29810684, 6.29478909, 6.26925937,\n",
              "       6.16769458, 6.13012072, 6.12278768, 6.00281151, 5.99505193,\n",
              "       5.98709189, 5.98370068, 5.97522753, 5.95968072, 5.94813443,\n",
              "       5.88974598, 5.8889447 , 5.87834627, 5.85521144, 5.84770394,\n",
              "       5.83259087, 5.82832455, 5.82408932, 5.81252356, 5.79062338,\n",
              "       5.77043115, 5.75851629, 5.75438789, 5.71584   , 5.70887154,\n",
              "       5.69532019, 5.68871723, 5.60460384, 5.58855787, 5.54819768,\n",
              "       5.47706824, 5.47388764, 5.42860147, 5.39872564, 5.36031195,\n",
              "       5.33244774, 5.28637206, 5.26793189, 5.252875  , 5.21194777,\n",
              "       5.19365574, 5.19231609, 5.19229838, 5.14044773, 5.12890188,\n",
              "       5.12416244, 5.12308205, 5.1017187 , 5.09756687, 5.07335772,\n",
              "       5.05731592, 5.01308034, 5.00704048, 4.97112616, 4.95936096,\n",
              "       4.94867075, 4.89754816, 4.88459418, 4.87608201, 4.87429774])"
            ]
          },
          "metadata": {
            "tags": []
          },
          "execution_count": 42
        }
      ]
    },
    {
      "cell_type": "code",
      "metadata": {
        "_cell_guid": "9cb8ec62-52fb-4b54-b0b2-e04a17ae8aa6",
        "_uuid": "12592c13082245da7656f0843cc005de7b466554",
        "trusted": true,
        "id": "oPEz_WM6rl8D",
        "outputId": "4094d0fe-05f6-452d-c285-13b4a55d21f1"
      },
      "source": [
        "msehappy = np.mean((dropped_happy.Happiness_Score - lm.predict(X)) ** 2 ) \n",
        "print(msehappy)"
      ],
      "execution_count": null,
      "outputs": [
        {
          "output_type": "stream",
          "text": [
            "8.186944509182452e-08\n"
          ],
          "name": "stdout"
        }
      ]
    },
    {
      "cell_type": "code",
      "metadata": {
        "_cell_guid": "f6b3984e-3bc0-46ba-962d-4c96f5c0c7b1",
        "_uuid": "1829719c01185345b990062a12b8796a79c6b74a",
        "trusted": true,
        "id": "B-PQPhj6rl8E",
        "outputId": "0533fb81-e894-43d3-e4c2-f297fe197ec5"
      },
      "source": [
        "lm2=LinearRegression()\n",
        "lm2.fit(X[['Family']], dropped_happy.Happiness_Score)"
      ],
      "execution_count": null,
      "outputs": [
        {
          "output_type": "execute_result",
          "data": {
            "text/plain": [
              "LinearRegression(copy_X=True, fit_intercept=True, n_jobs=1, normalize=False)"
            ]
          },
          "metadata": {
            "tags": []
          },
          "execution_count": 45
        }
      ]
    },
    {
      "cell_type": "code",
      "metadata": {
        "_cell_guid": "0506febb-2921-4a56-9b6b-be96c000efb8",
        "_uuid": "2e6c7a5de4546d09a9be7ebe2fc3b6d0f1e073c7",
        "trusted": true,
        "id": "c-0hAUmerl8E",
        "outputId": "6d5603c4-1743-496b-87ce-2161044b3f20"
      },
      "source": [
        "msefamily = np.mean((dropped_happy.Happiness_Score - lm2.predict(X[['Family']])) **2)\n",
        "print(msefamily)"
      ],
      "execution_count": null,
      "outputs": [
        {
          "output_type": "stream",
          "text": [
            "0.7673353072501177\n"
          ],
          "name": "stdout"
        }
      ]
    },
    {
      "cell_type": "markdown",
      "metadata": {
        "_cell_guid": "6abd0545-436a-422a-b062-c83b8ce004bb",
        "_uuid": "d6220dbddd109e892f4d16d0a7c55e3787b1a3a9",
        "collapsed": true,
        "id": "YsNOb6rLrl8E"
      },
      "source": [
        "**The Multiple Linear Regression Model for Happiness Score **\n",
        "<br/><b> $$ HappinessScore= 0.0001289 + 1.000041ecomomy + 1.000005family + 0.999869health + 0.999912freedom + 1.000020trust + 1.000006generosity + 0.999972DystopiaResidual $$<b/>"
      ]
    }
  ]
}