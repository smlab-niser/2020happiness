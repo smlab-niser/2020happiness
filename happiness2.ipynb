{
  "nbformat": 4,
  "nbformat_minor": 0,
  "metadata": {
    "kernelspec": {
      "name": "python3",
      "display_name": "Python 3",
      "language": "python"
    },
    "language_info": {
      "name": "python",
      "version": "3.6.6",
      "mimetype": "text/x-python",
      "codemirror_mode": {
        "name": "ipython",
        "version": 3
      },
      "pygments_lexer": "ipython3",
      "nbconvert_exporter": "python",
      "file_extension": ".py"
    },
    "colab": {
      "name": "happiness2.ipynb",
      "provenance": []
    }
  },
  "cells": [
    {
      "cell_type": "code",
      "metadata": {
        "_uuid": "8f2839f25d086af736a60e9eeb907d3b93b6e0e5",
        "_cell_guid": "b1076dfc-b9ad-4769-8c92-a6c4dae69d19",
        "trusted": true,
        "id": "rBWX3VPAtcdU"
      },
      "source": [
        "\n",
        "import numpy as np \n",
        "import pandas as pd \n",
        "import matplotlib.pyplot as plt\n",
        "import seaborn as sns\n",
        "\n",
        "\n",
        "import os\n",
        "print(os.listdir(\"../input\"))\n",
        "\n"
      ],
      "execution_count": null,
      "outputs": []
    },
    {
      "cell_type": "code",
      "metadata": {
        "trusted": true,
        "_uuid": "bdb7cc497b253173676316ab78fdf1bc7bc07f1c",
        "id": "AZnZl-YatcdX"
      },
      "source": [
        "data=pd.read_csv(\"worlddata.csv\")\n",
        "test=pd.read_csv(\"testdata.csv\")"
      ],
      "execution_count": null,
      "outputs": []
    },
    {
      "cell_type": "code",
      "metadata": {
        "trusted": true,
        "_uuid": "d829f0d673f9fb809de90b739011e3e41d87cbcb",
        "id": "lfg8X11gtcdX",
        "outputId": "a3b2f545-6262-4d35-b41d-c2d80ae8e2a0"
      },
      "source": [
        "print('for happiness score')\n",
        "data['Happiness Score'].describe()\n"
      ],
      "execution_count": null,
      "outputs": [
        {
          "output_type": "stream",
          "text": [
            "for happiness score\n"
          ],
          "name": "stdout"
        },
        {
          "output_type": "execute_result",
          "data": {
            "text/plain": [
              "count    158.000000\n",
              "mean       5.375734\n",
              "std        1.145010\n",
              "min        2.839000\n",
              "25%        4.526000\n",
              "50%        5.232500\n",
              "75%        6.243750\n",
              "max        7.587000\n",
              "Name: Happiness Score, dtype: float64"
            ]
          },
          "metadata": {
            "tags": []
          },
          "execution_count": 5
        }
      ]
    },
    {
      "cell_type": "markdown",
      "metadata": {
        "_uuid": "bdbcc532e88bd8ca17eb050b4d8fc67191cf9682",
        "id": "n08lgbtMtcdX"
      },
      "source": [
        "**Box Plot For Happiness Score of University Students using training dataset**"
      ]
    },
    {
      "cell_type": "code",
      "metadata": {
        "trusted": true,
        "_uuid": "ebc3e37d5245e316480425a18e0bd8f23eda8879",
        "id": "pV4FhUgftcdX",
        "outputId": "c7ef08df-518c-424f-f1d7-58d845c3eeee"
      },
      "source": [
        "plt.figure(figsize=(15,10))\n",
        "plt.boxplot(data['Happiness Score'])\n",
        "plt.ylabel('Happiness Score')\n",
        "plt.title('Box Plot for Happiness Score',color='blue',fontsize=16)\n"
      ],
      "execution_count": null,
      "outputs": [
        {
          "output_type": "execute_result",
          "data": {
            "text/plain": [
              "Text(0.5,1,'Box Plot for Happiness Score')"
            ]
          },
          "metadata": {
            "tags": []
          },
          "execution_count": 11
        },
        {
          "output_type": "display_data",
          "data": {
            "text/plain": [
              "<matplotlib.figure.Figure at 0x7f726677cc50>"
            ],
            "image/png": "[encoded data removed]"
          },
          "metadata": {
            "tags": []
          }
        }
      ]
    },
    {
      "cell_type": "markdown",
      "metadata": {
        "trusted": true,
        "_uuid": "fed0bb5a1efceed28bfb335fceea2c8f2130e40e",
        "collapsed": true,
        "id": "TkE1KxOetcdY"
      },
      "source": [
        "**Filter** University Students dataset"
      ]
    },
    {
      "cell_type": "code",
      "metadata": {
        "trusted": true,
        "_uuid": "657507d8ef646f76cad107c6e7dbd6646e4851b5",
        "id": "uv6UTKqItcdY"
      },
      "source": [
        "filter1=data['Happiness Score']>data['Happiness Score'].mean()\n",
        "data[filter1]"
      ],
      "execution_count": null,
      "outputs": []
    },
    {
      "cell_type": "code",
      "metadata": {
        "trusted": true,
        "_uuid": "c266bddd6f17a3d009ab18b7ae39053a1a32e072",
        "id": "oevYqmLotcdY",
        "outputId": "d749d41f-74b3-4839-e407-8580aa7d475c"
      },
      "source": [
        "filter2=data['Happiness Score']<3.\n",
        "data['Happiness Score'][filter2]"
      ],
      "execution_count": null,
      "outputs": [
        {
          "output_type": "execute_result",
          "data": {
            "text/plain": [
              "156    2.905\n",
              "157    2.839\n",
              "Name: Happiness Score, dtype: float64"
            ]
          },
          "metadata": {
            "tags": []
          },
          "execution_count": 13
        }
      ]
    }
  ]
}